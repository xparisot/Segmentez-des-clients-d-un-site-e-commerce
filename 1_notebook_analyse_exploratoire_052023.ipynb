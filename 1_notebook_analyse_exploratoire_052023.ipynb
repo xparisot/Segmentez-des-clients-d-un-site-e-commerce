{
 "cells": [
  {
   "cell_type": "code",
   "execution_count": 1,
   "metadata": {},
   "outputs": [
    {
     "ename": "FileNotFoundError",
     "evalue": "[Errno 2] No such file or directory: 'Projet 5 Analyse Exploratoire.ipynb'",
     "output_type": "error",
     "traceback": [
      "\u001B[0;31m---------------------------------------------------------------------------\u001B[0m",
      "\u001B[0;31mFileNotFoundError\u001B[0m                         Traceback (most recent call last)",
      "Cell \u001B[0;32mIn[1], line 8\u001B[0m\n\u001B[1;32m      5\u001B[0m \u001B[39mimport\u001B[39;00m \u001B[39mmarkdown\u001B[39;00m\n\u001B[1;32m      7\u001B[0m \u001B[39m# Lire le notebook\u001B[39;00m\n\u001B[0;32m----> 8\u001B[0m \u001B[39mwith\u001B[39;00m \u001B[39mopen\u001B[39;49m(\u001B[39m\"\u001B[39;49m\u001B[39mProjet 5 Analyse Exploratoire.ipynb\u001B[39;49m\u001B[39m\"\u001B[39;49m) \u001B[39mas\u001B[39;00m f:\n\u001B[1;32m      9\u001B[0m     nb \u001B[39m=\u001B[39m nbformat\u001B[39m.\u001B[39mread(f, as_version\u001B[39m=\u001B[39m\u001B[39m4\u001B[39m)\n\u001B[1;32m     11\u001B[0m \u001B[39m# Récupérer le contenu Markdown des cellules\u001B[39;00m\n",
      "File \u001B[0;32m~/anaconda3/envs/tf/lib/python3.10/site-packages/IPython/core/interactiveshell.py:284\u001B[0m, in \u001B[0;36m_modified_open\u001B[0;34m(file, *args, **kwargs)\u001B[0m\n\u001B[1;32m    277\u001B[0m \u001B[39mif\u001B[39;00m file \u001B[39min\u001B[39;00m {\u001B[39m0\u001B[39m, \u001B[39m1\u001B[39m, \u001B[39m2\u001B[39m}:\n\u001B[1;32m    278\u001B[0m     \u001B[39mraise\u001B[39;00m \u001B[39mValueError\u001B[39;00m(\n\u001B[1;32m    279\u001B[0m         \u001B[39mf\u001B[39m\u001B[39m\"\u001B[39m\u001B[39mIPython won\u001B[39m\u001B[39m'\u001B[39m\u001B[39mt let you open fd=\u001B[39m\u001B[39m{\u001B[39;00mfile\u001B[39m}\u001B[39;00m\u001B[39m by default \u001B[39m\u001B[39m\"\u001B[39m\n\u001B[1;32m    280\u001B[0m         \u001B[39m\"\u001B[39m\u001B[39mas it is likely to crash IPython. If you know what you are doing, \u001B[39m\u001B[39m\"\u001B[39m\n\u001B[1;32m    281\u001B[0m         \u001B[39m\"\u001B[39m\u001B[39myou can use builtins\u001B[39m\u001B[39m'\u001B[39m\u001B[39m open.\u001B[39m\u001B[39m\"\u001B[39m\n\u001B[1;32m    282\u001B[0m     )\n\u001B[0;32m--> 284\u001B[0m \u001B[39mreturn\u001B[39;00m io_open(file, \u001B[39m*\u001B[39;49margs, \u001B[39m*\u001B[39;49m\u001B[39m*\u001B[39;49mkwargs)\n",
      "\u001B[0;31mFileNotFoundError\u001B[0m: [Errno 2] No such file or directory: 'Projet 5 Analyse Exploratoire.ipynb'"
     ]
    }
   ],
   "source": [
    "from bs4 import BeautifulSoup\n",
    "import nbformat\n",
    "from nbformat.v4 import output_from_msg\n",
    "from nbconvert.preprocessors import ExecutePreprocessor\n",
    "import markdown\n",
    "\n",
    "# Lire le notebook\n",
    "with open(\"Projet 5 Analyse Exploratoire.ipynb\") as f:\n",
    "    nb = nbformat.read(f, as_version=4)\n",
    "\n",
    "# Récupérer le contenu Markdown des cellules\n",
    "md_content = \"\"\n",
    "for cell in nb.cells:\n",
    "    if cell.cell_type == \"markdown\":\n",
    "        md_content += cell.source + \"\\n\"\n",
    "\n",
    "# Parser le contenu Markdown pour extraire les titres\n",
    "html_content = markdown.markdown(md_content)\n",
    "title_tags = [\"h1\", \"h2\", \"h3\", \"h4\", \"h5\", \"h6\"]\n",
    "titles = [t.text for t in BeautifulSoup(html_content, \"html.parser\").find_all(title_tags)]\n",
    "\n",
    "# Afficher les titres et créer un sommaire\n",
    "print(\"Titres :\")\n",
    "for title in titles:\n",
    "    print(title)\n",
    "\n",
    "print(\"Sommaire :\")\n",
    "for i, title in enumerate(titles):\n",
    "    print(f\"{i+1}. {title}\")\n"
   ]
  },
  {
   "attachments": {},
   "cell_type": "markdown",
   "metadata": {},
   "source": [
    "# Sommaire"
   ]
  },
  {
   "attachments": {},
   "cell_type": "markdown",
   "metadata": {},
   "source": [
    "1. Importation des librairies  \n",
    "    2. Visualisation d'ensemble du jeu de données  \n",
    "        3. Relation entre les tables  \n",
    "        4. Analyse du Data set et affichage des informations le concernant  \n",
    "        5. Affichage des features  \n",
    "    6. Découverte des tables  \n",
    "        7. Customers  \n",
    "        8. Geolocation   \n",
    "        9. Items  \n",
    "        10. Payements  \n",
    "        11. Reviews  \n",
    "        12. orders  \n",
    "        13. Products  \n",
    "        14. Sellers  \n",
    "        15. Translation  \n",
    "    16. Traitement des outliers  \n",
    "    17. Recherche des doublons  \n",
    "        18. Customers  \n",
    "    19. Recherche des données manquantes  \n",
    "        20. Reviews  \n",
    "    21. Recherche des manquants  \n",
    "    22. Remplissage des NaN par 'No comments'  \n",
    "    23. Statut des commandes  \n",
    "        24. Produits  \n",
    "    25. Traduction des catégories de produits  \n",
    "    26. Création du Dataframe unifié  \n",
    "        27. Merge des différents dataframes  \n",
    "    28. Conversion des colonnes contenant des dates  \n",
    "    29. Tri des commandes  \n",
    "    30. Exploration du dataframe  \n",
    "    31. Feature engineering  \n",
    "        32. Création des périodes  \n",
    "        33. Regroupement des produits par commandes  \n",
    "        34. Regroupement par nombre de produits par clients  \n",
    "        35. Traitement des variables temporelles  \n",
    "    36. Création du dataframe de travail  \n",
    "        37. Suppression des variables non utiles  \n",
    "        38. Discrimination entre customer_id et customer_unique_id  \n",
    "        39. Tri des colonnes utiles  \n",
    "    40. Analyse Exploratoire  \n",
    "        41. Représentation des valeurs non numériques  \n",
    "        42. Evolution du nombre de commandes  \n",
    "        43. Distribution des valeurs numériques  \n",
    "    44. Split du dataset  \n",
    "        45. Passage au log des variables non RFM  \n",
    "    46. Analyse Bivariée  \n",
    "        47. Table de corrélation  \n",
    "    48. Analyse multivariée  \n",
    "        49. PCA  \n",
    "    50. Préparation du jeu de données  \n",
    "        51. RFM  \n",
    "        52. RFM à 90 jours  \n",
    "        53. RFM de 365 à 90 jours  \n",
    "        54. RFM depuis plus de 365 j  \n",
    "    55. Traitement de la feature 'Frequency'  \n",
    "    56. Traitement de la feature 'Monetary'  \n",
    "    57. Affichage des distributions  \n",
    "    58. Sauvegarde des fichiers  "
   ]
  },
  {
   "attachments": {},
   "cell_type": "markdown",
   "metadata": {
    "collapsed": false
   },
   "source": [
    "## Importation des librairies"
   ]
  },
  {
   "cell_type": "code",
   "execution_count": 2,
   "metadata": {
    "ExecuteTime": {
     "end_time": "2023-05-02T16:56:11.362116Z",
     "start_time": "2023-05-02T16:56:11.092166Z"
    },
    "collapsed": false
   },
   "outputs": [
    {
     "ename": "ImportError",
     "evalue": "cannot import name 'data' from 'jupyterlab_widgets' (/Users/xparisot/anaconda3/envs/tf/lib/python3.10/site-packages/jupyterlab_widgets/__init__.py)",
     "output_type": "error",
     "traceback": [
      "\u001B[0;31m---------------------------------------------------------------------------\u001B[0m",
      "\u001B[0;31mImportError\u001B[0m                               Traceback (most recent call last)",
      "Cell \u001B[0;32mIn[2], line 13\u001B[0m\n\u001B[1;32m     10\u001B[0m \u001B[39mimport\u001B[39;00m \u001B[39mmatplotlib\u001B[39;00m\u001B[39m.\u001B[39;00m\u001B[39mpyplot\u001B[39;00m \u001B[39mas\u001B[39;00m \u001B[39mplt\u001B[39;00m\n\u001B[1;32m     11\u001B[0m \u001B[39mimport\u001B[39;00m \u001B[39mdatetime\u001B[39;00m \u001B[39mas\u001B[39;00m \u001B[39mdt\u001B[39;00m\n\u001B[0;32m---> 13\u001B[0m \u001B[39mimport\u001B[39;00m \u001B[39moutils\u001B[39;00m\n\u001B[1;32m     14\u001B[0m \u001B[39mimport\u001B[39;00m \u001B[39moutils_analyses\u001B[39;00m\n\u001B[1;32m     16\u001B[0m \u001B[39mfrom\u001B[39;00m \u001B[39mdatetime\u001B[39;00m \u001B[39mimport\u001B[39;00m timedelta\n",
      "File \u001B[0;32m~/Formation_OpenClassroom/Projets/Projet_5/outils.py:11\u001B[0m\n\u001B[1;32m      9\u001B[0m \u001B[39mimport\u001B[39;00m \u001B[39mwarnings\u001B[39;00m\n\u001B[1;32m     10\u001B[0m \u001B[39mimport\u001B[39;00m \u001B[39mscipy\u001B[39;00m\u001B[39m.\u001B[39;00m\u001B[39mstats\u001B[39;00m \u001B[39mas\u001B[39;00m \u001B[39mstats\u001B[39;00m\n\u001B[0;32m---> 11\u001B[0m \u001B[39mfrom\u001B[39;00m \u001B[39mjupyterlab_widgets\u001B[39;00m \u001B[39mimport\u001B[39;00m data\n\u001B[1;32m     14\u001B[0m \u001B[39m# Affichage des informations du dataframe\u001B[39;00m\n\u001B[1;32m     15\u001B[0m \u001B[39mdef\u001B[39;00m \u001B[39minfo\u001B[39m(df):\n",
      "\u001B[0;31mImportError\u001B[0m: cannot import name 'data' from 'jupyterlab_widgets' (/Users/xparisot/anaconda3/envs/tf/lib/python3.10/site-packages/jupyterlab_widgets/__init__.py)"
     ]
    }
   ],
   "source": [
    "# importation des librairies\n",
    "import sys\n",
    "import warnings\n",
    "import scipy.stats as stats\n",
    "import numpy as np\n",
    "import pandas as pd\n",
    "import matplotlib as mpl\n",
    "import seaborn as sns\n",
    "import sklearn\n",
    "import matplotlib.pyplot as plt\n",
    "import datetime as dt\n",
    "\n",
    "import outils\n",
    "import outils_analyses\n",
    "\n",
    "from datetime import timedelta\n",
    "from sklearn.decomposition import PCA\n",
    "from sklearn.preprocessing import PowerTransformer, StandardScaler\n",
    "\n",
    "# Versions\n",
    "print('Vérification de la mise à jour des librairies utilisées :')\n",
    "print('Python: {}'.format(sys.version))\n",
    "print('NumPy         : ' + np.version.full_version)\n",
    "print('Pandas        : ' + pd.__version__)\n",
    "print('Matplotlib    : ' + mpl.__version__)\n",
    "print('Seaborn       : ' + sns.__version__)\n",
    "print('sklearn       : ' + sklearn.__version__)\n",
    "\n",
    "import datetime\n",
    "now  = datetime.datetime.now().isoformat()\n",
    "print('Lancé le      : ' + now)"
   ]
  },
  {
   "cell_type": "code",
   "execution_count": 3,
   "metadata": {
    "ExecuteTime": {
     "end_time": "2023-05-02T16:56:11.366821Z",
     "start_time": "2023-05-02T16:56:11.361782Z"
    },
    "collapsed": false
   },
   "outputs": [],
   "source": [
    "#réglage de l'affichage de données\n",
    "pd.set_option('display.max_row',250)\n",
    "pd.set_option('display.max_column',70)\n",
    "pd.set_option('display.precision', 5)"
   ]
  },
  {
   "cell_type": "code",
   "execution_count": 4,
   "metadata": {
    "ExecuteTime": {
     "end_time": "2023-05-02T16:56:11.368871Z",
     "start_time": "2023-05-02T16:56:11.366675Z"
    },
    "collapsed": false
   },
   "outputs": [],
   "source": [
    "#Format de pourcentage avec 2 virgules en décimale\n",
    "def format_percentage(value):\n",
    "    return \"{0:.2f}%\".format(value * 100)"
   ]
  },
  {
   "cell_type": "code",
   "execution_count": 5,
   "metadata": {
    "ExecuteTime": {
     "end_time": "2023-05-02T16:56:12.615428Z",
     "start_time": "2023-05-02T16:56:11.371576Z"
    },
    "collapsed": false
   },
   "outputs": [],
   "source": [
    "#Importation du jeu de données\n",
    "missing_values = [\"n/a\", \"na\", \"--\",\"nan\",\"NaN\"]\n",
    "customers = pd.read_csv('olist_customers_dataset.csv', decimal=\".\", index_col=0, encoding='utf_8', low_memory=False,na_values = missing_values).reset_index()\n",
    "geolocation = pd.read_csv('olist_geolocation_dataset.csv', decimal=\".\", index_col=0, encoding='utf_8', low_memory=False,na_values = missing_values).reset_index()\n",
    "items = pd.read_csv('olist_order_items_dataset.csv', decimal=\".\", index_col=0, encoding='utf_8', low_memory=False,na_values = missing_values).reset_index()\n",
    "payments = pd.read_csv('olist_order_payments_dataset.csv', decimal=\".\", index_col=0, encoding='utf_8', low_memory=False,na_values = missing_values).reset_index()\n",
    "reviews = pd.read_csv('olist_order_reviews_dataset.csv', decimal=\".\", index_col=0, encoding='utf_8', low_memory=False,na_values = missing_values).reset_index()\n",
    "orders = pd.read_csv('olist_orders_dataset.csv', decimal=\".\", index_col=0, encoding='utf_8', low_memory=False,na_values = missing_values).reset_index()\n",
    "products = pd.read_csv('olist_products_dataset.csv', decimal=\".\", index_col=0, encoding='utf_8', low_memory=False,na_values = missing_values).reset_index()\n",
    "sellers = pd.read_csv('olist_sellers_dataset.csv', decimal=\".\", index_col=0, encoding='utf_8', low_memory=False,na_values = missing_values).reset_index()\n",
    "translation = pd.read_csv('product_category_name_translation.csv', decimal=\".\", index_col=0, encoding='utf_8', low_memory=False,na_values = missing_values).reset_index()"
   ]
  },
  {
   "attachments": {},
   "cell_type": "markdown",
   "metadata": {
    "collapsed": false
   },
   "source": [
    "### Visualisation d'ensemble du jeu de données"
   ]
  },
  {
   "attachments": {},
   "cell_type": "markdown",
   "metadata": {
    "collapsed": false
   },
   "source": [
    "#### Relation entre les tables"
   ]
  },
  {
   "cell_type": "raw",
   "metadata": {
    "collapsed": false
   },
   "source": [
    "from IPython import display\n",
    "display.Image(\"bdd.png\")"
   ]
  },
  {
   "attachments": {},
   "cell_type": "markdown",
   "metadata": {
    "collapsed": false
   },
   "source": [
    "#### Analyse du Data set et affichage des informations le concernant"
   ]
  },
  {
   "cell_type": "code",
   "execution_count": 6,
   "metadata": {
    "ExecuteTime": {
     "end_time": "2023-05-02T16:56:13.482330Z",
     "start_time": "2023-05-02T16:56:12.615819Z"
    },
    "collapsed": false
   },
   "outputs": [
    {
     "data": {
      "text/html": [
       "<div>\n",
       "<style scoped>\n",
       "    .dataframe tbody tr th:only-of-type {\n",
       "        vertical-align: middle;\n",
       "    }\n",
       "\n",
       "    .dataframe tbody tr th {\n",
       "        vertical-align: top;\n",
       "    }\n",
       "\n",
       "    .dataframe thead th {\n",
       "        text-align: right;\n",
       "    }\n",
       "</style>\n",
       "<table border=\"1\" class=\"dataframe\">\n",
       "  <thead>\n",
       "    <tr style=\"text-align: right;\">\n",
       "      <th></th>\n",
       "      <th>Nb lignes</th>\n",
       "      <th>Nb colonnes</th>\n",
       "      <th>Taux remplissage moyen</th>\n",
       "      <th>Doublons</th>\n",
       "      <th>Description</th>\n",
       "      <th>Nom des Dataframes</th>\n",
       "    </tr>\n",
       "  </thead>\n",
       "  <tbody>\n",
       "    <tr>\n",
       "      <th>olist_customers_dataset.csv</th>\n",
       "      <td>99441</td>\n",
       "      <td>5</td>\n",
       "      <td>100.00%</td>\n",
       "      <td>0</td>\n",
       "      <td>Base de coordonnées géographiques du client</td>\n",
       "      <td>customers</td>\n",
       "    </tr>\n",
       "    <tr>\n",
       "      <th>olist_geolocation_dataset.csv</th>\n",
       "      <td>1000163</td>\n",
       "      <td>5</td>\n",
       "      <td>100.00%</td>\n",
       "      <td>261831</td>\n",
       "      <td>Coordonnées de géolocalisation</td>\n",
       "      <td>geolocation</td>\n",
       "    </tr>\n",
       "    <tr>\n",
       "      <th>olist_order_items_dataset.csv</th>\n",
       "      <td>112650</td>\n",
       "      <td>7</td>\n",
       "      <td>100.00%</td>\n",
       "      <td>0</td>\n",
       "      <td>Base contenant les commandes des produits et l...</td>\n",
       "      <td>items</td>\n",
       "    </tr>\n",
       "    <tr>\n",
       "      <th>olist_order_payments_dataset.csv</th>\n",
       "      <td>103886</td>\n",
       "      <td>5</td>\n",
       "      <td>100.00%</td>\n",
       "      <td>0</td>\n",
       "      <td>Modes  et moyens de paiement de paiement des c...</td>\n",
       "      <td>payments</td>\n",
       "    </tr>\n",
       "    <tr>\n",
       "      <th>olist_order_reviews_dataset.csv</th>\n",
       "      <td>99224</td>\n",
       "      <td>7</td>\n",
       "      <td>78.99%</td>\n",
       "      <td>0</td>\n",
       "      <td>Review des commandes</td>\n",
       "      <td>reviews</td>\n",
       "    </tr>\n",
       "    <tr>\n",
       "      <th>olist_orders_dataset.csv</th>\n",
       "      <td>99441</td>\n",
       "      <td>8</td>\n",
       "      <td>99.38%</td>\n",
       "      <td>0</td>\n",
       "      <td>Statut des commandes</td>\n",
       "      <td>orders</td>\n",
       "    </tr>\n",
       "    <tr>\n",
       "      <th>olist_products_dataset.csv</th>\n",
       "      <td>32951</td>\n",
       "      <td>9</td>\n",
       "      <td>99.17%</td>\n",
       "      <td>0</td>\n",
       "      <td>Caractéristiques des produits</td>\n",
       "      <td>products</td>\n",
       "    </tr>\n",
       "    <tr>\n",
       "      <th>olist_sellers_dataset.csv</th>\n",
       "      <td>3095</td>\n",
       "      <td>4</td>\n",
       "      <td>100.00%</td>\n",
       "      <td>0</td>\n",
       "      <td>Vendeurs</td>\n",
       "      <td>sellers</td>\n",
       "    </tr>\n",
       "    <tr>\n",
       "      <th>product_category_name_translation.csv</th>\n",
       "      <td>71</td>\n",
       "      <td>2</td>\n",
       "      <td>100.00%</td>\n",
       "      <td>0</td>\n",
       "      <td>translation</td>\n",
       "      <td>translation</td>\n",
       "    </tr>\n",
       "  </tbody>\n",
       "</table>\n",
       "</div>"
      ],
      "text/plain": [
       "                                       Nb lignes  Nb colonnes   \n",
       "olist_customers_dataset.csv                99441            5  \\\n",
       "olist_geolocation_dataset.csv            1000163            5   \n",
       "olist_order_items_dataset.csv             112650            7   \n",
       "olist_order_payments_dataset.csv          103886            5   \n",
       "olist_order_reviews_dataset.csv            99224            7   \n",
       "olist_orders_dataset.csv                   99441            8   \n",
       "olist_products_dataset.csv                 32951            9   \n",
       "olist_sellers_dataset.csv                   3095            4   \n",
       "product_category_name_translation.csv         71            2   \n",
       "\n",
       "                                      Taux remplissage moyen  Doublons   \n",
       "olist_customers_dataset.csv                          100.00%         0  \\\n",
       "olist_geolocation_dataset.csv                        100.00%    261831   \n",
       "olist_order_items_dataset.csv                        100.00%         0   \n",
       "olist_order_payments_dataset.csv                     100.00%         0   \n",
       "olist_order_reviews_dataset.csv                       78.99%         0   \n",
       "olist_orders_dataset.csv                              99.38%         0   \n",
       "olist_products_dataset.csv                            99.17%         0   \n",
       "olist_sellers_dataset.csv                            100.00%         0   \n",
       "product_category_name_translation.csv                100.00%         0   \n",
       "\n",
       "                                                                             Description   \n",
       "olist_customers_dataset.csv                  Base de coordonnées géographiques du client  \\\n",
       "olist_geolocation_dataset.csv                             Coordonnées de géolocalisation   \n",
       "olist_order_items_dataset.csv          Base contenant les commandes des produits et l...   \n",
       "olist_order_payments_dataset.csv       Modes  et moyens de paiement de paiement des c...   \n",
       "olist_order_reviews_dataset.csv                                     Review des commandes   \n",
       "olist_orders_dataset.csv                                            Statut des commandes   \n",
       "olist_products_dataset.csv                                 Caractéristiques des produits   \n",
       "olist_sellers_dataset.csv                                                      Vendeurs    \n",
       "product_category_name_translation.csv                                        translation   \n",
       "\n",
       "                                      Nom des Dataframes  \n",
       "olist_customers_dataset.csv                    customers  \n",
       "olist_geolocation_dataset.csv                geolocation  \n",
       "olist_order_items_dataset.csv                      items  \n",
       "olist_order_payments_dataset.csv                payments  \n",
       "olist_order_reviews_dataset.csv                  reviews  \n",
       "olist_orders_dataset.csv                          orders  \n",
       "olist_products_dataset.csv                      products  \n",
       "olist_sellers_dataset.csv                        sellers  \n",
       "product_category_name_translation.csv        translation  "
      ]
     },
     "execution_count": 6,
     "metadata": {},
     "output_type": "execute_result"
    }
   ],
   "source": [
    "# Création d'un tableau donnant les informations principales des 5 fichiers\n",
    "files_description = pd.DataFrame(columns = [\"Nb lignes\", \"Nb colonnes\", \"Taux remplissage moyen\", \"Doublons\", \"Description\",\"Nom des Dataframes\" ],\n",
    "                                 index = [\"olist_customers_dataset.csv\",\n",
    "                                          \"olist_geolocation_dataset.csv\",\n",
    "                                          \"olist_order_items_dataset.csv\",\n",
    "                                          \"olist_order_payments_dataset.csv\",\n",
    "                                          \"olist_order_reviews_dataset.csv\",\n",
    "                                          \"olist_orders_dataset.csv\",\n",
    "                                          \"olist_products_dataset.csv\",\n",
    "                                          \"olist_sellers_dataset.csv\",\n",
    "                                          \"product_category_name_translation.csv\"])\n",
    "\n",
    "\n",
    "# Description pour chacun des fichiers\n",
    "files_description[\"Description\"] = [\n",
    "    \"Base de coordonnées géographiques du client\",\n",
    "    \"Coordonnées de géolocalisation\",\n",
    "    \"Base contenant les commandes des produits et leurs vendeurs\",\n",
    "    \"Modes  et moyens de paiement de paiement des commandes et moyens de paiement\",\n",
    "    \"Review des commandes\",\n",
    "    \"Statut des commandes\",\n",
    "    \"Caractéristiques des produits\",\n",
    "    \"Vendeurs \",\n",
    "    \"translation\"\n",
    "]\n",
    "\n",
    "# Nom des dataframes\n",
    "files_description[\"Nom des Dataframes\"] = [\n",
    "    \"customers\",\n",
    "    \"geolocation\",\n",
    "    \"items\",\n",
    "    \"payments\",\n",
    "    \"reviews\",\n",
    "    \"orders\",\n",
    "    \"products\",\n",
    "    \"sellers\",\n",
    "    \"translation\"\n",
    "]\n",
    "\n",
    "# Remplissage du nombre de lignes pour chaque fichier\n",
    "files_description[\"Nb lignes\"] = [\n",
    "    len(customers.index),\n",
    "    len(geolocation.index),\n",
    "    len(items.index),\n",
    "    len(payments.index),\n",
    "    len(reviews.index),\n",
    "    len(orders.index),\n",
    "    len(products.index),\n",
    "    len(sellers.index),\n",
    "    len(translation.index)\n",
    "]\n",
    "\n",
    "# Remplissage du nombre de colonnes pour chaque fichier\n",
    "files_description[\"Nb colonnes\"] = [\n",
    "    len(customers.columns),\n",
    "    len(geolocation.columns),\n",
    "    len(items.columns),\n",
    "    len(payments.columns),\n",
    "    len(reviews.columns),\n",
    "    len(orders.columns),\n",
    "    len(products.columns),\n",
    "    len(sellers.columns),\n",
    "    len(translation.columns)\n",
    "]\n",
    "\n",
    "#Remplissage du taux de remplissage moyen pour chaque fichier\n",
    "files_description[\"Taux remplissage moyen\"] = [\n",
    "    format_percentage(customers.notna().mean().mean()),\n",
    "    format_percentage(geolocation.notna().mean().mean()),\n",
    "    format_percentage(items.notna().mean().mean()),\n",
    "    format_percentage(payments.notna().mean().mean()),\n",
    "    format_percentage(reviews.notna().mean().mean()),\n",
    "    format_percentage(orders.notna().mean().mean()),\n",
    "    format_percentage(products.notna().mean().mean()),\n",
    "    format_percentage(sellers.notna().mean().mean()),\n",
    "    format_percentage(translation.notna().mean().mean())\n",
    "]\n",
    "\n",
    "#Remplissage des doublons pour chaque fichier\n",
    "files_description[\"Doublons\"] = [\n",
    "    customers.duplicated().sum(),\n",
    "    geolocation.duplicated().sum(),\n",
    "    items.duplicated().sum(),\n",
    "    payments.duplicated().sum(),\n",
    "    reviews.duplicated().sum(),\n",
    "    orders.duplicated().sum(),\n",
    "    products.duplicated().sum(),\n",
    "    sellers.duplicated().sum(),\n",
    "    translation.duplicated().sum()\n",
    "]\n",
    "files_description\n"
   ]
  },
  {
   "attachments": {},
   "cell_type": "markdown",
   "metadata": {
    "collapsed": false
   },
   "source": [
    "#### Affichage des features"
   ]
  },
  {
   "cell_type": "code",
   "execution_count": 7,
   "metadata": {
    "ExecuteTime": {
     "end_time": "2023-05-02T16:56:13.489632Z",
     "start_time": "2023-05-02T16:56:13.486643Z"
    },
    "collapsed": false
   },
   "outputs": [
    {
     "data": {
      "text/html": [
       "<div>\n",
       "<style scoped>\n",
       "    .dataframe tbody tr th:only-of-type {\n",
       "        vertical-align: middle;\n",
       "    }\n",
       "\n",
       "    .dataframe tbody tr th {\n",
       "        vertical-align: top;\n",
       "    }\n",
       "\n",
       "    .dataframe thead th {\n",
       "        text-align: right;\n",
       "    }\n",
       "</style>\n",
       "<table border=\"1\" class=\"dataframe\">\n",
       "  <thead>\n",
       "    <tr style=\"text-align: right;\">\n",
       "      <th></th>\n",
       "      <th>customers</th>\n",
       "      <th>geolocation</th>\n",
       "      <th>items</th>\n",
       "      <th>payments</th>\n",
       "      <th>reviews</th>\n",
       "      <th>orders</th>\n",
       "      <th>products</th>\n",
       "      <th>sellers</th>\n",
       "      <th>translation</th>\n",
       "    </tr>\n",
       "  </thead>\n",
       "  <tbody>\n",
       "    <tr>\n",
       "      <th>0</th>\n",
       "      <td>customer_id</td>\n",
       "      <td>geolocation_zip_code_prefix</td>\n",
       "      <td>order_id</td>\n",
       "      <td>order_id</td>\n",
       "      <td>review_id</td>\n",
       "      <td>order_id</td>\n",
       "      <td>product_id</td>\n",
       "      <td>seller_id</td>\n",
       "      <td>product_category_name</td>\n",
       "    </tr>\n",
       "    <tr>\n",
       "      <th>1</th>\n",
       "      <td>customer_unique_id</td>\n",
       "      <td>geolocation_lat</td>\n",
       "      <td>order_item_id</td>\n",
       "      <td>payment_sequential</td>\n",
       "      <td>order_id</td>\n",
       "      <td>customer_id</td>\n",
       "      <td>product_category_name</td>\n",
       "      <td>seller_zip_code_prefix</td>\n",
       "      <td>product_category_name_english</td>\n",
       "    </tr>\n",
       "    <tr>\n",
       "      <th>2</th>\n",
       "      <td>customer_zip_code_prefix</td>\n",
       "      <td>geolocation_lng</td>\n",
       "      <td>product_id</td>\n",
       "      <td>payment_type</td>\n",
       "      <td>review_score</td>\n",
       "      <td>order_status</td>\n",
       "      <td>product_name_lenght</td>\n",
       "      <td>seller_city</td>\n",
       "      <td>None</td>\n",
       "    </tr>\n",
       "    <tr>\n",
       "      <th>3</th>\n",
       "      <td>customer_city</td>\n",
       "      <td>geolocation_city</td>\n",
       "      <td>seller_id</td>\n",
       "      <td>payment_installments</td>\n",
       "      <td>review_comment_title</td>\n",
       "      <td>order_purchase_timestamp</td>\n",
       "      <td>product_description_lenght</td>\n",
       "      <td>seller_state</td>\n",
       "      <td>None</td>\n",
       "    </tr>\n",
       "    <tr>\n",
       "      <th>4</th>\n",
       "      <td>customer_state</td>\n",
       "      <td>geolocation_state</td>\n",
       "      <td>shipping_limit_date</td>\n",
       "      <td>payment_value</td>\n",
       "      <td>review_comment_message</td>\n",
       "      <td>order_approved_at</td>\n",
       "      <td>product_photos_qty</td>\n",
       "      <td>None</td>\n",
       "      <td>None</td>\n",
       "    </tr>\n",
       "    <tr>\n",
       "      <th>5</th>\n",
       "      <td>None</td>\n",
       "      <td>None</td>\n",
       "      <td>price</td>\n",
       "      <td>None</td>\n",
       "      <td>review_creation_date</td>\n",
       "      <td>order_delivered_carrier_date</td>\n",
       "      <td>product_weight_g</td>\n",
       "      <td>None</td>\n",
       "      <td>None</td>\n",
       "    </tr>\n",
       "    <tr>\n",
       "      <th>6</th>\n",
       "      <td>None</td>\n",
       "      <td>None</td>\n",
       "      <td>freight_value</td>\n",
       "      <td>None</td>\n",
       "      <td>review_answer_timestamp</td>\n",
       "      <td>order_delivered_customer_date</td>\n",
       "      <td>product_length_cm</td>\n",
       "      <td>None</td>\n",
       "      <td>None</td>\n",
       "    </tr>\n",
       "    <tr>\n",
       "      <th>7</th>\n",
       "      <td>None</td>\n",
       "      <td>None</td>\n",
       "      <td>None</td>\n",
       "      <td>None</td>\n",
       "      <td>None</td>\n",
       "      <td>order_estimated_delivery_date</td>\n",
       "      <td>product_height_cm</td>\n",
       "      <td>None</td>\n",
       "      <td>None</td>\n",
       "    </tr>\n",
       "    <tr>\n",
       "      <th>8</th>\n",
       "      <td>None</td>\n",
       "      <td>None</td>\n",
       "      <td>None</td>\n",
       "      <td>None</td>\n",
       "      <td>None</td>\n",
       "      <td>None</td>\n",
       "      <td>product_width_cm</td>\n",
       "      <td>None</td>\n",
       "      <td>None</td>\n",
       "    </tr>\n",
       "  </tbody>\n",
       "</table>\n",
       "</div>"
      ],
      "text/plain": [
       "                  customers                  geolocation                items   \n",
       "0               customer_id  geolocation_zip_code_prefix             order_id  \\\n",
       "1        customer_unique_id              geolocation_lat        order_item_id   \n",
       "2  customer_zip_code_prefix              geolocation_lng           product_id   \n",
       "3             customer_city             geolocation_city            seller_id   \n",
       "4            customer_state            geolocation_state  shipping_limit_date   \n",
       "5                      None                         None                price   \n",
       "6                      None                         None        freight_value   \n",
       "7                      None                         None                 None   \n",
       "8                      None                         None                 None   \n",
       "\n",
       "               payments                  reviews   \n",
       "0              order_id                review_id  \\\n",
       "1    payment_sequential                 order_id   \n",
       "2          payment_type             review_score   \n",
       "3  payment_installments     review_comment_title   \n",
       "4         payment_value   review_comment_message   \n",
       "5                  None     review_creation_date   \n",
       "6                  None  review_answer_timestamp   \n",
       "7                  None                     None   \n",
       "8                  None                     None   \n",
       "\n",
       "                          orders                    products   \n",
       "0                       order_id                  product_id  \\\n",
       "1                    customer_id       product_category_name   \n",
       "2                   order_status         product_name_lenght   \n",
       "3       order_purchase_timestamp  product_description_lenght   \n",
       "4              order_approved_at          product_photos_qty   \n",
       "5   order_delivered_carrier_date            product_weight_g   \n",
       "6  order_delivered_customer_date           product_length_cm   \n",
       "7  order_estimated_delivery_date           product_height_cm   \n",
       "8                           None            product_width_cm   \n",
       "\n",
       "                  sellers                    translation  \n",
       "0               seller_id          product_category_name  \n",
       "1  seller_zip_code_prefix  product_category_name_english  \n",
       "2             seller_city                           None  \n",
       "3            seller_state                           None  \n",
       "4                    None                           None  \n",
       "5                    None                           None  \n",
       "6                    None                           None  \n",
       "7                    None                           None  \n",
       "8                    None                           None  "
      ]
     },
     "execution_count": 7,
     "metadata": {},
     "output_type": "execute_result"
    }
   ],
   "source": [
    "#variables for each dataframe\n",
    "pd.DataFrame([customers.columns,\n",
    "              geolocation.columns,\n",
    "              items.columns,\n",
    "              payments.columns,\n",
    "              reviews.columns,\n",
    "              orders.columns,\n",
    "              products.columns,\n",
    "              sellers.columns,\n",
    "              translation.columns],\n",
    "             index =['customers','geolocation','items','payments',\n",
    "                     'reviews','orders','products','sellers','translation']).T\n",
    "\n"
   ]
  },
  {
   "attachments": {},
   "cell_type": "markdown",
   "metadata": {
    "collapsed": false
   },
   "source": [
    "#### Découverte des tables"
   ]
  },
  {
   "attachments": {},
   "cell_type": "markdown",
   "metadata": {
    "collapsed": false
   },
   "source": [
    "##### Customers"
   ]
  },
  {
   "cell_type": "code",
   "execution_count": 8,
   "metadata": {
    "ExecuteTime": {
     "end_time": "2023-05-02T16:56:13.662146Z",
     "start_time": "2023-05-02T16:56:13.492074Z"
    },
    "collapsed": false
   },
   "outputs": [
    {
     "ename": "NameError",
     "evalue": "name 'outils' is not defined",
     "output_type": "error",
     "traceback": [
      "\u001B[0;31m---------------------------------------------------------------------------\u001B[0m",
      "\u001B[0;31mNameError\u001B[0m                                 Traceback (most recent call last)",
      "Cell \u001B[0;32mIn[8], line 1\u001B[0m\n\u001B[0;32m----> 1\u001B[0m outils\u001B[39m.\u001B[39minfo(customers)\n",
      "\u001B[0;31mNameError\u001B[0m: name 'outils' is not defined"
     ]
    }
   ],
   "source": [
    "outils.info(customers)"
   ]
  },
  {
   "cell_type": "code",
   "execution_count": null,
   "metadata": {
    "ExecuteTime": {
     "end_time": "2023-05-02T16:56:13.662310Z",
     "start_time": "2023-05-02T16:56:13.652285Z"
    },
    "collapsed": false
   },
   "outputs": [],
   "source": [
    "customers.rename(columns = {'customer_city' : 'city'}, inplace= True)"
   ]
  },
  {
   "attachments": {},
   "cell_type": "markdown",
   "metadata": {
    "collapsed": false
   },
   "source": [
    "##### Geolocation"
   ]
  },
  {
   "cell_type": "code",
   "execution_count": null,
   "metadata": {
    "ExecuteTime": {
     "end_time": "2023-05-02T16:56:14.297683Z",
     "start_time": "2023-05-02T16:56:13.659644Z"
    },
    "collapsed": false
   },
   "outputs": [],
   "source": [
    "outils.info(geolocation)"
   ]
  },
  {
   "cell_type": "code",
   "execution_count": null,
   "metadata": {
    "ExecuteTime": {
     "end_time": "2023-05-02T16:56:14.359187Z",
     "start_time": "2023-05-02T16:56:14.304602Z"
    },
    "collapsed": false
   },
   "outputs": [],
   "source": [
    "print(\"Nombre de villes : \",len(geolocation['geolocation_city'].unique()))\n",
    "print(\"Nombre d'états   : \",len(geolocation['geolocation_state'].unique()))"
   ]
  },
  {
   "cell_type": "code",
   "execution_count": null,
   "metadata": {
    "ExecuteTime": {
     "end_time": "2023-05-02T16:56:14.362610Z",
     "start_time": "2023-05-02T16:56:14.360182Z"
    },
    "collapsed": false
   },
   "outputs": [],
   "source": [
    "geolocation.rename(columns = {'geolocation_city' : 'city'}, inplace= True)"
   ]
  },
  {
   "attachments": {},
   "cell_type": "markdown",
   "metadata": {
    "collapsed": false
   },
   "source": [
    "##### Items"
   ]
  },
  {
   "cell_type": "code",
   "execution_count": null,
   "metadata": {
    "ExecuteTime": {
     "end_time": "2023-05-02T16:56:14.554749Z",
     "start_time": "2023-05-02T16:56:14.365776Z"
    },
    "collapsed": false
   },
   "outputs": [],
   "source": [
    "outils.info(items)"
   ]
  },
  {
   "attachments": {},
   "cell_type": "markdown",
   "metadata": {
    "collapsed": false
   },
   "source": [
    "##### Payements"
   ]
  },
  {
   "cell_type": "code",
   "execution_count": null,
   "metadata": {
    "ExecuteTime": {
     "end_time": "2023-05-02T16:56:14.664919Z",
     "start_time": "2023-05-02T16:56:14.557211Z"
    },
    "collapsed": false
   },
   "outputs": [],
   "source": [
    "outils.info(payments)"
   ]
  },
  {
   "attachments": {},
   "cell_type": "markdown",
   "metadata": {
    "collapsed": false
   },
   "source": [
    "##### Reviews"
   ]
  },
  {
   "cell_type": "code",
   "execution_count": null,
   "metadata": {
    "ExecuteTime": {
     "end_time": "2023-05-02T16:56:14.868335Z",
     "start_time": "2023-05-02T16:56:14.645506Z"
    },
    "collapsed": false
   },
   "outputs": [],
   "source": [
    "outils.info(reviews)"
   ]
  },
  {
   "attachments": {},
   "cell_type": "markdown",
   "metadata": {
    "collapsed": false
   },
   "source": [
    "##### orders"
   ]
  },
  {
   "cell_type": "code",
   "execution_count": null,
   "metadata": {
    "ExecuteTime": {
     "end_time": "2023-05-02T16:56:15.187723Z",
     "start_time": "2023-05-02T16:56:14.871487Z"
    },
    "collapsed": false
   },
   "outputs": [],
   "source": [
    "outils.info(orders)"
   ]
  },
  {
   "attachments": {},
   "cell_type": "markdown",
   "metadata": {
    "collapsed": false
   },
   "source": [
    "##### Products"
   ]
  },
  {
   "cell_type": "code",
   "execution_count": null,
   "metadata": {
    "ExecuteTime": {
     "end_time": "2023-05-02T16:56:15.261328Z",
     "start_time": "2023-05-02T16:56:15.191956Z"
    },
    "collapsed": false
   },
   "outputs": [],
   "source": [
    "outils.info(products)"
   ]
  },
  {
   "attachments": {},
   "cell_type": "markdown",
   "metadata": {
    "collapsed": false
   },
   "source": [
    "##### Sellers"
   ]
  },
  {
   "cell_type": "code",
   "execution_count": null,
   "metadata": {
    "ExecuteTime": {
     "end_time": "2023-05-02T16:56:15.277842Z",
     "start_time": "2023-05-02T16:56:15.228683Z"
    },
    "collapsed": false
   },
   "outputs": [],
   "source": [
    "outils.info(sellers)"
   ]
  },
  {
   "attachments": {},
   "cell_type": "markdown",
   "metadata": {
    "collapsed": false
   },
   "source": [
    "##### Translation"
   ]
  },
  {
   "cell_type": "code",
   "execution_count": null,
   "metadata": {
    "ExecuteTime": {
     "end_time": "2023-05-02T16:56:15.278779Z",
     "start_time": "2023-05-02T16:56:15.238658Z"
    },
    "collapsed": false
   },
   "outputs": [],
   "source": [
    "outils.info(translation)"
   ]
  },
  {
   "attachments": {},
   "cell_type": "markdown",
   "metadata": {
    "collapsed": false
   },
   "source": [
    "### Traitement des outliers"
   ]
  },
  {
   "attachments": {},
   "cell_type": "markdown",
   "metadata": {
    "collapsed": false
   },
   "source": [
    "Nous retirons du dataframe les commandes passées hors du Brésil"
   ]
  },
  {
   "cell_type": "code",
   "execution_count": null,
   "metadata": {
    "ExecuteTime": {
     "end_time": "2023-05-02T16:56:15.412098Z",
     "start_time": "2023-05-02T16:56:15.244529Z"
    },
    "collapsed": false
   },
   "outputs": [],
   "source": [
    "# Nord du Brésil 5 deg 16′ 27.8″ N latitude\n",
    "geolocation = geolocation[geolocation.geolocation_lat <= 5.27438888]\n",
    "# Ouest du Brésil 73 deg, 58′ 58.19″W Long\n",
    "geolocation = geolocation[geolocation.geolocation_lng >= -73.98283055]\n",
    "# Sud du Brésil 33 deg, 45′ 04.21″ S Latitude\n",
    "geolocation = geolocation[geolocation.geolocation_lat >= -33.75116944]\n",
    "# Est du Brésil 34 deg, 47′ 35.33″ W Long.\n",
    "geolocation = geolocation[geolocation.geolocation_lng <= -34.79314722]"
   ]
  },
  {
   "cell_type": "code",
   "execution_count": null,
   "metadata": {
    "ExecuteTime": {
     "end_time": "2023-05-02T16:56:15.412593Z",
     "start_time": "2023-05-02T16:56:15.353108Z"
    },
    "collapsed": false
   },
   "outputs": [],
   "source": [
    "geolocation.head()"
   ]
  },
  {
   "cell_type": "code",
   "execution_count": null,
   "metadata": {
    "ExecuteTime": {
     "end_time": "2023-05-02T16:56:25.435423Z",
     "start_time": "2023-05-02T16:56:15.356435Z"
    },
    "collapsed": false
   },
   "outputs": [],
   "source": [
    "# Affichage des zones\n",
    "geolocation.plot(kind=\"scatter\", x=\"geolocation_lng\", y=\"geolocation_lat\",\n",
    "         alpha=0.4, c=\"geolocation_zip_code_prefix\",\n",
    "         cmap=plt.get_cmap(\"jet\"), colorbar=True, figsize=(10, 10))\n",
    "plt.show()"
   ]
  },
  {
   "attachments": {},
   "cell_type": "markdown",
   "metadata": {
    "collapsed": false
   },
   "source": [
    "### Recherche des doublons"
   ]
  },
  {
   "attachments": {},
   "cell_type": "markdown",
   "metadata": {
    "collapsed": false
   },
   "source": [
    "Selon le tableau de découverte, il semble que seule la base geolocation contient des doublons, nous confirmerons cela avec une observation de la base customers et le customers_id"
   ]
  },
  {
   "attachments": {},
   "cell_type": "markdown",
   "metadata": {
    "collapsed": false
   },
   "source": [
    "#### Customers"
   ]
  },
  {
   "attachments": {},
   "cell_type": "markdown",
   "metadata": {
    "collapsed": false
   },
   "source": [
    "On vérifie que l'ID du client n'est pas présent plusieurs fois"
   ]
  },
  {
   "cell_type": "code",
   "execution_count": null,
   "metadata": {
    "ExecuteTime": {
     "end_time": "2023-05-02T16:56:25.491924Z",
     "start_time": "2023-05-02T16:56:25.452869Z"
    },
    "collapsed": false
   },
   "outputs": [],
   "source": [
    "id_clients = customers[\"customer_id\"].value_counts()\n",
    "print(f\"Nombre de doublons : {len(id_clients[id_clients>1])}\")\n",
    "ID_counts = customers[\"customer_unique_id\"].value_counts()\n",
    "print(f\"Nombre de doublons : {len(ID_counts[ID_counts>1])}\")\n",
    "print(ID_counts)"
   ]
  },
  {
   "cell_type": "code",
   "execution_count": null,
   "metadata": {
    "ExecuteTime": {
     "end_time": "2023-05-02T16:56:25.501273Z",
     "start_time": "2023-05-02T16:56:25.484963Z"
    },
    "collapsed": false
   },
   "outputs": [],
   "source": [
    "# On prend le 1er ID afin de vérifier son caractère unique\n",
    "display(customers[customers[\"customer_unique_id\"] == \"8d50f5eadf50201ccdcedfb9e2ac8455\"])"
   ]
  },
  {
   "attachments": {},
   "cell_type": "markdown",
   "metadata": {
    "collapsed": false
   },
   "source": [
    "La vérification nous permet de confirmer que la base de données ne contient pas de doublons dabs ce dataframe."
   ]
  },
  {
   "attachments": {},
   "cell_type": "markdown",
   "metadata": {
    "collapsed": false
   },
   "source": [
    "### Recherche des données manquantes"
   ]
  },
  {
   "attachments": {},
   "cell_type": "markdown",
   "metadata": {
    "collapsed": false
   },
   "source": [
    "#### Reviews"
   ]
  },
  {
   "attachments": {},
   "cell_type": "markdown",
   "metadata": {
    "collapsed": false
   },
   "source": [
    "##### Recherche des manquants"
   ]
  },
  {
   "cell_type": "code",
   "execution_count": null,
   "metadata": {
    "ExecuteTime": {
     "end_time": "2023-05-02T16:56:25.578015Z",
     "start_time": "2023-05-02T16:56:25.493444Z"
    },
    "collapsed": false
   },
   "outputs": [],
   "source": [
    "display(reviews.isna().sum())"
   ]
  },
  {
   "attachments": {},
   "cell_type": "markdown",
   "metadata": {
    "collapsed": false
   },
   "source": [
    "Commentaires manquants (titre et message)."
   ]
  },
  {
   "cell_type": "code",
   "execution_count": null,
   "metadata": {
    "ExecuteTime": {
     "end_time": "2023-05-02T16:56:25.579671Z",
     "start_time": "2023-05-02T16:56:25.548748Z"
    },
    "collapsed": false
   },
   "outputs": [],
   "source": [
    "display(reviews.loc[reviews.review_comment_title.isnull()])"
   ]
  },
  {
   "cell_type": "code",
   "execution_count": null,
   "metadata": {
    "ExecuteTime": {
     "end_time": "2023-05-02T16:56:25.589690Z",
     "start_time": "2023-05-02T16:56:25.568057Z"
    },
    "collapsed": false
   },
   "outputs": [],
   "source": [
    "display(reviews.loc[reviews.review_comment_message.isnull()])"
   ]
  },
  {
   "attachments": {},
   "cell_type": "markdown",
   "metadata": {
    "collapsed": false
   },
   "source": [
    "Toutes les commandes n'ont pas de commentaires, ni de review."
   ]
  },
  {
   "attachments": {},
   "cell_type": "markdown",
   "metadata": {
    "collapsed": false
   },
   "source": [
    "##### Remplissage des NaN par 'No comments'"
   ]
  },
  {
   "cell_type": "code",
   "execution_count": null,
   "metadata": {
    "ExecuteTime": {
     "end_time": "2023-05-02T16:56:25.671511Z",
     "start_time": "2023-05-02T16:56:25.631876Z"
    },
    "collapsed": false
   },
   "outputs": [],
   "source": [
    "reviews = reviews.fillna('No comments')"
   ]
  },
  {
   "cell_type": "code",
   "execution_count": null,
   "metadata": {
    "ExecuteTime": {
     "end_time": "2023-05-02T16:56:25.730622Z",
     "start_time": "2023-05-02T16:56:25.647592Z"
    },
    "collapsed": false
   },
   "outputs": [],
   "source": [
    "display(reviews.isna().sum())"
   ]
  },
  {
   "attachments": {},
   "cell_type": "markdown",
   "metadata": {
    "collapsed": false
   },
   "source": [
    "#### Statut des commandes"
   ]
  },
  {
   "cell_type": "code",
   "execution_count": null,
   "metadata": {
    "ExecuteTime": {
     "end_time": "2023-05-02T16:56:25.774373Z",
     "start_time": "2023-05-02T16:56:25.762043Z"
    },
    "collapsed": false
   },
   "outputs": [],
   "source": [
    "display(orders.isna().sum())"
   ]
  },
  {
   "attachments": {},
   "cell_type": "markdown",
   "metadata": {
    "collapsed": false
   },
   "source": [
    "Manquants sur les dates d'approbation des commandes\n",
    "Manquants sur les dates de livraison annoncée par le transporteur\n",
    "Manquants sur les dates de livraison au client\n"
   ]
  },
  {
   "cell_type": "code",
   "execution_count": null,
   "metadata": {
    "ExecuteTime": {
     "end_time": "2023-05-02T16:56:25.797608Z",
     "start_time": "2023-05-02T16:56:25.768733Z"
    },
    "collapsed": false
   },
   "outputs": [],
   "source": [
    "display(orders.loc[orders.order_approved_at.isnull()])"
   ]
  },
  {
   "cell_type": "code",
   "execution_count": null,
   "metadata": {
    "ExecuteTime": {
     "end_time": "2023-05-02T16:56:25.807234Z",
     "start_time": "2023-05-02T16:56:25.797742Z"
    },
    "collapsed": false
   },
   "outputs": [],
   "source": [
    "display(orders.loc[(orders.order_delivered_carrier_date.isnull())])"
   ]
  },
  {
   "cell_type": "code",
   "execution_count": null,
   "metadata": {
    "ExecuteTime": {
     "end_time": "2023-05-02T16:56:25.816418Z",
     "start_time": "2023-05-02T16:56:25.808820Z"
    },
    "collapsed": false
   },
   "outputs": [],
   "source": [
    "display(orders.order_status.value_counts())"
   ]
  },
  {
   "cell_type": "code",
   "execution_count": null,
   "metadata": {
    "ExecuteTime": {
     "end_time": "2023-05-02T16:56:25.841337Z",
     "start_time": "2023-05-02T16:56:25.819157Z"
    },
    "collapsed": false
   },
   "outputs": [],
   "source": [
    "display(orders.loc[(orders.order_delivered_carrier_date.isnull())\n",
    "           & (orders.order_status == 'delivered')])"
   ]
  },
  {
   "attachments": {},
   "cell_type": "markdown",
   "metadata": {
    "collapsed": false
   },
   "source": [
    "#### Produits"
   ]
  },
  {
   "cell_type": "code",
   "execution_count": null,
   "metadata": {
    "ExecuteTime": {
     "end_time": "2023-05-02T16:56:25.884477Z",
     "start_time": "2023-05-02T16:56:25.830691Z"
    },
    "collapsed": false
   },
   "outputs": [],
   "source": [
    "display(products.isna().sum())"
   ]
  },
  {
   "attachments": {},
   "cell_type": "markdown",
   "metadata": {
    "collapsed": false
   },
   "source": []
  },
  {
   "cell_type": "code",
   "execution_count": null,
   "metadata": {
    "ExecuteTime": {
     "end_time": "2023-05-02T16:56:25.889132Z",
     "start_time": "2023-05-02T16:56:25.835473Z"
    },
    "collapsed": false
   },
   "outputs": [],
   "source": [
    "display(products.loc[(products.product_category_name.isnull())])"
   ]
  },
  {
   "attachments": {},
   "cell_type": "markdown",
   "metadata": {
    "collapsed": false
   },
   "source": [
    "Remplacement des Nan par 0"
   ]
  },
  {
   "cell_type": "code",
   "execution_count": null,
   "metadata": {
    "ExecuteTime": {
     "end_time": "2023-05-02T16:56:25.900357Z",
     "start_time": "2023-05-02T16:56:25.844252Z"
    },
    "collapsed": false
   },
   "outputs": [],
   "source": [
    "products = products.fillna(0)"
   ]
  },
  {
   "cell_type": "code",
   "execution_count": null,
   "metadata": {
    "ExecuteTime": {
     "end_time": "2023-05-02T16:56:25.904715Z",
     "start_time": "2023-05-02T16:56:25.854368Z"
    },
    "collapsed": false
   },
   "outputs": [],
   "source": [
    "display(products.loc[(products.product_category_name.isnull())])"
   ]
  },
  {
   "attachments": {},
   "cell_type": "markdown",
   "metadata": {
    "collapsed": false
   },
   "source": [
    "### Traduction des catégories de produits"
   ]
  },
  {
   "cell_type": "code",
   "execution_count": null,
   "metadata": {
    "ExecuteTime": {
     "end_time": "2023-05-02T16:56:25.977254Z",
     "start_time": "2023-05-02T16:56:25.862909Z"
    },
    "collapsed": false
   },
   "outputs": [],
   "source": [
    "#Nettoyage avant traduction des catégories de produits\n",
    "print(\"Il manque ces catégories dans la traduction en anglais : \",\n",
    "      set(products.product_category_name)- set(translation.product_category_name))\n",
    "\n",
    "t = len(translation)\n",
    "\n",
    "translation.loc[t,'product_category_name'] = 'unknown'\n",
    "translation.loc[t,'product_category_name_english'] = 'unknown'\n",
    "\n",
    "translation.loc[t+1,'product_category_name'] = 'pc_gamer'\n",
    "translation.loc[t+1,'product_category_name_english'] = 'pc_gamer'\n",
    "\n",
    "translation.loc[t+2,'product_category_name'] = 'portateis_cozinha_e_preparadores_de_alimentos'\n",
    "translation.loc[t+2,'product_category_name_english'] = 'small_appliances_kitchen_and_food_processors'\n",
    "\n",
    "products = pd.merge(translation,products, on =[\"product_category_name\"])"
   ]
  },
  {
   "attachments": {},
   "cell_type": "markdown",
   "metadata": {
    "collapsed": false
   },
   "source": [
    "Dictionnaire des catégories"
   ]
  },
  {
   "cell_type": "code",
   "execution_count": null,
   "metadata": {
    "ExecuteTime": {
     "end_time": "2023-05-02T16:56:25.977402Z",
     "start_time": "2023-05-02T16:56:25.873000Z"
    },
    "collapsed": false
   },
   "outputs": [],
   "source": [
    "categories = {\n",
    "    #appliances : électroménager\n",
    "    'home_appliances' :'appliances',\n",
    "    'home_appliances_2' : 'appliances',\n",
    "    'small_appliances_kitchen_and_food_processors' : 'appliances',\n",
    "    'small_appliances_home_oven_and_coffee' : 'appliances',\n",
    "    'small_appliances': 'appliances',\n",
    "    'air_conditioning' : 'appliances',\n",
    "\n",
    "    #tools : outils\n",
    "    'garden_tools': 'tools',\n",
    "    'construction_tools_garden' : 'tools',\n",
    "    'home_construction' : 'tools',\n",
    "    'construction_tools_tools' : 'tools',\n",
    "    'construction_tools_lights' : 'tools',\n",
    "    'construction_tools_construction' : 'tools',\n",
    "    'construction_tools_safety' : 'tools',\n",
    "\n",
    "    #electronique\n",
    "    'electronics' : 'electronics',\n",
    "    'computers_accessories': 'electronics',\n",
    "    'telephony' : 'electronics',\n",
    "    'consoles_games' : 'electronics',\n",
    "    'computers' : 'electronics',\n",
    "    'pc_gamer' : 'electronics',\n",
    "    'fixed_telephony' : 'electronics',\n",
    "    'tablets_printing_image' : 'electronics',\n",
    "\n",
    "    #hygiene et beauté\n",
    "    'health_beauty' : 'hygiene_and_beauty',\n",
    "    'perfumery' : 'hygiene_and_beauty',\n",
    "    'diapers_and_hygiene': 'hygiene_and_beauty',\n",
    "\n",
    "    #loisirs et auto\n",
    "    'sports_leisure' : 'auto_leisure',\n",
    "    'toys': 'auto_leisure',\n",
    "    'auto': 'auto_leisure',\n",
    "\n",
    "    #fashion\n",
    "    'watches_gifts' : 'fashion',\n",
    "    'fashion_bags_accessories' : 'fashion',\n",
    "    'fashion_shoes': 'fashion',\n",
    "    'fashion_male_clothing' : 'fashion',\n",
    "    'fashion_female_clothing' : 'fashion',\n",
    "    'fashion_children_clothes' : 'fashion',\n",
    "    'fashion_underwear_beach' : 'fashion',\n",
    "    'fashion_sport' : 'fashion',\n",
    "    'baby' : 'fashion',\n",
    "    'luggage_accessories' : 'fashion',\n",
    "\n",
    "    #mobilier\n",
    "    'kitchen_dining_laundry_garden_furniture' : 'furniture',\n",
    "    'furniture_living_room' : 'furniture',\n",
    "    'furniture_mattress_and_upholstery' : 'furniture',\n",
    "    'office_furniture' : 'furniture',\n",
    "    'furniture_bedroom' : 'furniture',\n",
    "\n",
    "    #articles de décoration\n",
    "    'furniture_decor': 'decoration' ,\n",
    "    'christmas_supplies': 'decoration',\n",
    "    'party_supplies': 'decoration',\n",
    "    'bed_bath_table' : 'decoration',\n",
    "\n",
    "    #articles ménagers\n",
    "    'housewares': 'housewares',\n",
    "    'home_confort' : 'housewares',\n",
    "    'home_comfort_2' : 'housewares',\n",
    "    'la_cuisine': 'housewares',\n",
    "    'stationery': 'housewares',\n",
    "\n",
    "    #jardin et extérieurs\n",
    "    'pet_shop': 'garden_outdoors',\n",
    "    'flowers': 'garden_outdoors',\n",
    "    'signaling_and_security' : 'garden_outdoors' ,\n",
    "    #services\n",
    "    'market_place' : 'service',\n",
    "    'industry_commerce_and_business' : 'services',\n",
    "    'security_and_services' : 'services',\n",
    "\n",
    "    #culture\n",
    "    'arts_and_craftsmanship' : 'culture',\n",
    "    'books_technical': 'culture',\n",
    "    'books_general_interest': 'culture',\n",
    "    'books_imported': 'culture',\n",
    "    'musical_instruments' : 'culture',\n",
    "    'cds_dvds_musicals' : 'culture',\n",
    "    'dvds_blu_ray' : 'culture',\n",
    "    'cine_photo' : 'culture',\n",
    "    'audio' : 'culture',\n",
    "    'music' : 'culture',\n",
    "    'art' : 'culture',\n",
    "\n",
    "    #aliments et boissons\n",
    "    'food': 'food_drinks',\n",
    "    'food_drink' : 'food_drinks',\n",
    "    'drinks': 'food_drinks',\n",
    "    'agro_industry_and_commerce' : 'food_drinks',\n",
    "\n",
    "    #autres\n",
    "    'cool_stuff': \"other\",\n",
    "    'unknown' : \"other\",\n",
    "}"
   ]
  },
  {
   "cell_type": "code",
   "execution_count": null,
   "metadata": {
    "ExecuteTime": {
     "end_time": "2023-05-02T16:56:26.001013Z",
     "start_time": "2023-05-02T16:56:25.881567Z"
    },
    "collapsed": false
   },
   "outputs": [],
   "source": [
    "products['product_category_name'] = products['product_category_name_english'].astype('object')\n",
    "products['product_category_name'] = products ['product_category_name_english'].replace(categories, regex=False)"
   ]
  },
  {
   "attachments": {},
   "cell_type": "markdown",
   "metadata": {
    "collapsed": false
   },
   "source": [
    "### Création du Dataframe unifié"
   ]
  },
  {
   "attachments": {},
   "cell_type": "markdown",
   "metadata": {
    "collapsed": false
   },
   "source": [
    "##### Merge des différents dataframes"
   ]
  },
  {
   "attachments": {},
   "cell_type": "markdown",
   "metadata": {
    "collapsed": false
   },
   "source": [
    "On merge les tables en utilisant un jointure à gauche"
   ]
  },
  {
   "attachments": {},
   "cell_type": "markdown",
   "metadata": {
    "collapsed": false
   },
   "source": []
  },
  {
   "cell_type": "code",
   "execution_count": null,
   "metadata": {
    "ExecuteTime": {
     "end_time": "2023-05-02T16:56:26.425572Z",
     "start_time": "2023-05-02T16:56:25.943249Z"
    },
    "collapsed": false
   },
   "outputs": [],
   "source": [
    "data_merged = pd.merge(customers, orders,\n",
    "              how='left',\n",
    "              on='customer_id') \\\n",
    "    .merge(payments,\n",
    "           how='left',\n",
    "           on='order_id') \\\n",
    "    .merge(items,\n",
    "           how='left',\n",
    "           on='order_id') \\\n",
    "    .merge(products,\n",
    "           how='left',\n",
    "           on='product_id') \\\n",
    "    .merge(translation,\n",
    "           how='left',\n",
    "           on='product_category_name') \\\n",
    "    .merge(sellers,\n",
    "           how='left',\n",
    "           on='seller_id') \\\n",
    "    .merge(reviews,\n",
    "           how='left',\n",
    "           on='order_id')\n",
    "display(data_merged.head())"
   ]
  },
  {
   "cell_type": "code",
   "execution_count": null,
   "metadata": {
    "ExecuteTime": {
     "end_time": "2023-05-02T16:56:27.351705Z",
     "start_time": "2023-05-02T16:56:26.435591Z"
    },
    "collapsed": false
   },
   "outputs": [],
   "source": [
    "outils.info(data_merged)"
   ]
  },
  {
   "cell_type": "code",
   "execution_count": null,
   "metadata": {
    "ExecuteTime": {
     "end_time": "2023-05-02T16:56:27.608566Z",
     "start_time": "2023-05-02T16:56:27.463995Z"
    },
    "collapsed": false
   },
   "outputs": [],
   "source": [
    "display(data_merged.isna().sum())"
   ]
  },
  {
   "cell_type": "code",
   "execution_count": null,
   "metadata": {
    "ExecuteTime": {
     "end_time": "2023-05-02T16:56:27.612106Z",
     "start_time": "2023-05-02T16:56:27.609609Z"
    },
    "collapsed": false
   },
   "outputs": [],
   "source": [
    "data_merged.columns"
   ]
  },
  {
   "cell_type": "code",
   "execution_count": null,
   "metadata": {
    "ExecuteTime": {
     "end_time": "2023-05-02T16:56:27.681183Z",
     "start_time": "2023-05-02T16:56:27.614104Z"
    },
    "collapsed": false
   },
   "outputs": [],
   "source": [
    "# drop de la variable 'product_category_name_english_y'\n",
    "data_merged = data_merged.drop('product_category_name_english_y', 1)"
   ]
  },
  {
   "cell_type": "code",
   "execution_count": null,
   "metadata": {
    "ExecuteTime": {
     "end_time": "2023-05-02T16:56:27.681484Z",
     "start_time": "2023-05-02T16:56:27.641229Z"
    },
    "collapsed": false
   },
   "outputs": [],
   "source": [
    "data_merged.columns"
   ]
  },
  {
   "attachments": {},
   "cell_type": "markdown",
   "metadata": {
    "collapsed": false
   },
   "source": [
    "##### Conversion des colonnes contenant des dates"
   ]
  },
  {
   "cell_type": "code",
   "execution_count": null,
   "metadata": {
    "ExecuteTime": {
     "end_time": "2023-05-02T16:56:27.681671Z",
     "start_time": "2023-05-02T16:56:27.644359Z"
    },
    "collapsed": false
   },
   "outputs": [],
   "source": [
    "data_merged.head()"
   ]
  },
  {
   "cell_type": "code",
   "execution_count": null,
   "metadata": {
    "ExecuteTime": {
     "end_time": "2023-05-02T16:56:27.893568Z",
     "start_time": "2023-05-02T16:56:27.660079Z"
    },
    "collapsed": false
   },
   "outputs": [],
   "source": [
    "date_cols = ['order_purchase_timestamp',\n",
    "             'order_approved_at',\n",
    "             'order_delivered_carrier_date',\n",
    "             'order_delivered_customer_date',\n",
    "             'order_estimated_delivery_date',\n",
    "             'shipping_limit_date']\n",
    "\n",
    "\n",
    "data_merged[date_cols] = data_merged[date_cols].apply(pd.to_datetime)"
   ]
  },
  {
   "attachments": {},
   "cell_type": "markdown",
   "metadata": {
    "collapsed": false
   },
   "source": [
    "##### Tri des commandes"
   ]
  },
  {
   "attachments": {},
   "cell_type": "markdown",
   "metadata": {
    "collapsed": false
   },
   "source": [
    "Affichage des status de commande et du nombre de commandes correspondant"
   ]
  },
  {
   "cell_type": "code",
   "execution_count": null,
   "metadata": {
    "ExecuteTime": {
     "end_time": "2023-05-02T16:56:27.907066Z",
     "start_time": "2023-05-02T16:56:27.898340Z"
    },
    "collapsed": false
   },
   "outputs": [],
   "source": [
    "data_merged.order_status.value_counts()"
   ]
  },
  {
   "attachments": {},
   "cell_type": "markdown",
   "metadata": {
    "collapsed": false
   },
   "source": []
  },
  {
   "cell_type": "code",
   "execution_count": null,
   "metadata": {
    "ExecuteTime": {
     "end_time": "2023-05-02T16:56:27.907244Z",
     "start_time": "2023-05-02T16:56:27.901509Z"
    },
    "collapsed": false
   },
   "outputs": [],
   "source": [
    "#data_merged = data_merged[data_merged.order_status == 'delivered']"
   ]
  },
  {
   "attachments": {},
   "cell_type": "markdown",
   "metadata": {
    "collapsed": false
   },
   "source": [
    "#### Exploration du dataframe"
   ]
  },
  {
   "cell_type": "code",
   "execution_count": null,
   "metadata": {
    "ExecuteTime": {
     "end_time": "2023-05-02T16:56:31.635610Z",
     "start_time": "2023-05-02T16:56:27.904849Z"
    },
    "collapsed": false
   },
   "outputs": [],
   "source": [
    "outils.valeurs(data_merged)"
   ]
  },
  {
   "cell_type": "code",
   "execution_count": null,
   "metadata": {
    "ExecuteTime": {
     "end_time": "2023-05-02T16:56:32.361661Z",
     "start_time": "2023-05-02T16:56:31.814609Z"
    },
    "collapsed": false
   },
   "outputs": [],
   "source": [
    "outils.manquant(data_merged)"
   ]
  },
  {
   "attachments": {},
   "cell_type": "markdown",
   "metadata": {
    "collapsed": false
   },
   "source": [
    "On traite les Nan restant en les supprimant. La taille de notre jeu de données nous le permet, et il y a très peu de manquant. La suppression nous permet de ne pas introduire de biais dans notre étude."
   ]
  },
  {
   "cell_type": "code",
   "execution_count": null,
   "metadata": {
    "ExecuteTime": {
     "end_time": "2023-05-02T16:56:32.558594Z",
     "start_time": "2023-05-02T16:56:32.362469Z"
    },
    "collapsed": false
   },
   "outputs": [],
   "source": [
    "data_merged = data_merged.dropna()"
   ]
  },
  {
   "cell_type": "code",
   "execution_count": null,
   "metadata": {
    "ExecuteTime": {
     "end_time": "2023-05-02T16:56:32.654149Z",
     "start_time": "2023-05-02T16:56:32.566363Z"
    },
    "collapsed": false
   },
   "outputs": [],
   "source": [
    "outils.format_data(data_merged)"
   ]
  },
  {
   "attachments": {},
   "cell_type": "markdown",
   "metadata": {
    "collapsed": false
   },
   "source": [
    "### Feature engineering"
   ]
  },
  {
   "attachments": {},
   "cell_type": "markdown",
   "metadata": {
    "collapsed": false
   },
   "source": [
    "#### Création des périodes"
   ]
  },
  {
   "cell_type": "code",
   "execution_count": null,
   "metadata": {
    "ExecuteTime": {
     "end_time": "2023-05-02T16:56:32.657435Z",
     "start_time": "2023-05-02T16:56:32.655613Z"
    },
    "collapsed": false
   },
   "outputs": [],
   "source": [
    "def transfo_time_day(x):\n",
    "    global time_day\n",
    "    if '7' < x <= '12':\n",
    "        time_day = \"Matin\"\n",
    "    elif '12' < x <= '14':\n",
    "        time_day = \"Midi\"\n",
    "    elif '14' < x <= '18':\n",
    "        time_day = \"Apres Midi\"\n",
    "    elif '18' < x <= '22':\n",
    "        time_day = \"Soiree\"\n",
    "    else:\n",
    "        time_day = \"Nuit\"\n",
    "    return time_day"
   ]
  },
  {
   "cell_type": "code",
   "execution_count": null,
   "metadata": {
    "ExecuteTime": {
     "end_time": "2023-05-02T16:56:32.667525Z",
     "start_time": "2023-05-02T16:56:32.665425Z"
    },
    "collapsed": false
   },
   "outputs": [],
   "source": [
    "# Conversion de la feature au format datetime\n",
    "data_merged['order_purchase_timestamp'] = pd.to_datetime(\n",
    "    data_merged['order_purchase_timestamp'])"
   ]
  },
  {
   "cell_type": "code",
   "execution_count": null,
   "metadata": {
    "ExecuteTime": {
     "end_time": "2023-05-02T16:56:33.411973Z",
     "start_time": "2023-05-02T16:56:32.861358Z"
    },
    "collapsed": false
   },
   "outputs": [],
   "source": [
    "\n",
    "# période d'achat\n",
    "\n",
    "data_merged['order_purchase_hour'] = \\\n",
    "    data_merged['order_purchase_timestamp'] \\\n",
    "        .apply(lambda x: x.strftime('%H'))\n",
    "\n",
    "data_merged[\"order_purchase_time_day\"] = \\\n",
    "    data_merged[\"order_purchase_hour\"].apply(transfo_time_day)\n",
    "\n",
    "data_merged[\"order_purchase_dayofweek\"] = \\\n",
    "    data_merged[\"order_purchase_timestamp\"].dt.strftime(\"%a\")\n",
    "\n",
    "total = data_merged['order_purchase_dayofweek'].value_counts().sum()\n",
    "plt.figure(figsize=(15, 8))\n",
    "\n",
    "g = sns.countplot(x='order_purchase_time_day', data=data_merged,\n",
    "                  palette=\"YlOrBr\",\n",
    "                  order=data_merged['order_purchase_time_day'].value_counts().index)\n",
    "g.set_title(\"Distribution des commandes selon les moments de la journée\",\n",
    "            fontsize=16)\n",
    "g.set_xlabel(\"Moment de la journée\", fontsize=12)\n",
    "g.set_ylabel(\"Nombre de commandes\", fontsize=12)\n",
    "for p in g.patches:\n",
    "    height = p.get_height()\n",
    "    #sizes.append(height)\n",
    "    g.text(p.get_x()+p.get_width()/2.,\n",
    "           height + 100,\n",
    "           '{:1.2f}%'.format(height/total*100),\n",
    "           ha=\"center\", fontsize=12)\n",
    "    g.text(p.get_x()+p.get_width()/2.,\n",
    "           height + 1200,\n",
    "           '{:1}'.format(height),\n",
    "           ha=\"center\", fontsize=12)"
   ]
  },
  {
   "cell_type": "code",
   "execution_count": null,
   "metadata": {
    "ExecuteTime": {
     "end_time": "2023-05-02T16:56:33.463631Z",
     "start_time": "2023-05-02T16:56:33.420254Z"
    },
    "collapsed": false
   },
   "outputs": [],
   "source": [
    "display(data_merged)"
   ]
  },
  {
   "attachments": {},
   "cell_type": "markdown",
   "metadata": {
    "collapsed": false
   },
   "source": [
    "#### Regroupement des produits par commandes"
   ]
  },
  {
   "attachments": {},
   "cell_type": "markdown",
   "metadata": {
    "collapsed": false
   },
   "source": [
    "Les commandes ne portent pas que sur un seul produit, nous allons traiter cela. Nous allons rechercher une commande ayant 5 produits."
   ]
  },
  {
   "cell_type": "code",
   "execution_count": null,
   "metadata": {
    "ExecuteTime": {
     "end_time": "2023-05-02T16:56:33.463995Z",
     "start_time": "2023-05-02T16:56:33.437556Z"
    },
    "collapsed": false
   },
   "outputs": [],
   "source": [
    "data_merged['order_item_id'].value_counts()"
   ]
  },
  {
   "cell_type": "code",
   "execution_count": null,
   "metadata": {
    "ExecuteTime": {
     "end_time": "2023-05-02T16:56:33.487348Z",
     "start_time": "2023-05-02T16:56:33.440540Z"
    },
    "collapsed": false
   },
   "outputs": [],
   "source": [
    "data_merged.loc[data_merged['order_item_id'] == 5]"
   ]
  },
  {
   "cell_type": "code",
   "execution_count": null,
   "metadata": {
    "ExecuteTime": {
     "end_time": "2023-05-02T16:56:33.547176Z",
     "start_time": "2023-05-02T16:56:33.501453Z"
    },
    "collapsed": false
   },
   "outputs": [],
   "source": [
    "data_merged.loc[data_merged['order_id'] == '4c7061e57405537a32f8c9dd0a194d68']"
   ]
  },
  {
   "attachments": {},
   "cell_type": "markdown",
   "metadata": {
    "collapsed": false
   },
   "source": [
    "On peut donc grouper les commandes ayant le même id"
   ]
  },
  {
   "cell_type": "code",
   "execution_count": null,
   "metadata": {
    "ExecuteTime": {
     "end_time": "2023-05-02T16:56:33.569280Z",
     "start_time": "2023-05-02T16:56:33.510245Z"
    },
    "collapsed": false
   },
   "outputs": [],
   "source": [
    "print(\"Doublons de 'customer_id' = \", len(data_merged[data_merged.duplicated(subset = ['customer_id'])]))\n",
    "\n",
    "# Liste des clients ayant commandé plus d'une fois :\n",
    "multiple_order = data_merged[data_merged.duplicated(subset = ['customer_id'])]['customer_id'].unique()\n",
    "\n",
    "print(\"Nombre de clients multi-commandes = \", len(multiple_order))"
   ]
  },
  {
   "cell_type": "code",
   "execution_count": null,
   "metadata": {
    "ExecuteTime": {
     "end_time": "2023-05-02T16:56:33.682148Z",
     "start_time": "2023-05-02T16:56:33.532239Z"
    },
    "collapsed": false
   },
   "outputs": [],
   "source": [
    "# On regroupe les commandes l'id de commande\n",
    "quantity_order = data_merged.groupby(['order_id','product_id']).size().reset_index(name='order_item_quantity')"
   ]
  },
  {
   "cell_type": "code",
   "execution_count": null,
   "metadata": {
    "ExecuteTime": {
     "end_time": "2023-05-02T16:56:34.050988Z",
     "start_time": "2023-05-02T16:56:33.659986Z"
    },
    "collapsed": false
   },
   "outputs": [],
   "source": [
    "# On merge avec le dataset de départ, toujours à gauche\n",
    "data_merged = pd.merge(quantity_order,data_merged,how = 'left',  on=['order_id', 'product_id']).drop_duplicates().reset_index(drop=True)"
   ]
  },
  {
   "cell_type": "code",
   "execution_count": null,
   "metadata": {
    "ExecuteTime": {
     "end_time": "2023-05-02T16:56:34.089492Z",
     "start_time": "2023-05-02T16:56:34.052134Z"
    },
    "collapsed": false
   },
   "outputs": [],
   "source": [
    "# On supprime les variables en trop\n",
    "data_merged = data_merged.drop(axis = 1, columns = \"order_item_id\")"
   ]
  },
  {
   "cell_type": "code",
   "execution_count": null,
   "metadata": {
    "ExecuteTime": {
     "end_time": "2023-05-02T16:56:34.095288Z",
     "start_time": "2023-05-02T16:56:34.083251Z"
    },
    "collapsed": false
   },
   "outputs": [],
   "source": [
    "data_merged"
   ]
  },
  {
   "attachments": {},
   "cell_type": "markdown",
   "metadata": {
    "collapsed": false
   },
   "source": [
    "#### Regroupement par nombre de produits par clients"
   ]
  },
  {
   "cell_type": "code",
   "execution_count": null,
   "metadata": {
    "ExecuteTime": {
     "end_time": "2023-05-02T16:56:34.190503Z",
     "start_time": "2023-05-02T16:56:34.095412Z"
    },
    "collapsed": false
   },
   "outputs": [],
   "source": [
    "customers_products_quantity = data_merged.groupby(['customer_id'])['product_id'].count().reset_index(name= 'nb_articles')"
   ]
  },
  {
   "cell_type": "code",
   "execution_count": null,
   "metadata": {
    "ExecuteTime": {
     "end_time": "2023-05-02T16:56:34.562923Z",
     "start_time": "2023-05-02T16:56:34.184666Z"
    },
    "collapsed": false
   },
   "outputs": [],
   "source": [
    "data_merged = pd.merge(customers_products_quantity, data_merged,how = 'left', on=['customer_id']).drop_duplicates().reset_index(drop=True)"
   ]
  },
  {
   "cell_type": "code",
   "execution_count": null,
   "metadata": {
    "ExecuteTime": {
     "end_time": "2023-05-02T16:56:34.566603Z",
     "start_time": "2023-05-02T16:56:34.563668Z"
    },
    "collapsed": false
   },
   "outputs": [],
   "source": [
    "data_merged.nb_articles.equals(data_merged.nb_articles)"
   ]
  },
  {
   "attachments": {},
   "cell_type": "markdown",
   "metadata": {
    "collapsed": false
   },
   "source": [
    "#### Traitement des variables temporelles"
   ]
  },
  {
   "attachments": {},
   "cell_type": "markdown",
   "metadata": {
    "collapsed": false
   },
   "source": [
    "Determination des dates les plus anciennes et les plus récentes"
   ]
  },
  {
   "cell_type": "code",
   "execution_count": null,
   "metadata": {
    "ExecuteTime": {
     "end_time": "2023-05-02T16:56:34.602594Z",
     "start_time": "2023-05-02T16:56:34.567608Z"
    },
    "collapsed": false
   },
   "outputs": [],
   "source": [
    "debut_periode = data_merged['order_purchase_timestamp'].min()  # commande la plus ancienne :  2016-09-15 12:16:38\n",
    "fin_periode = data_merged['order_purchase_timestamp'].max()  # commande la plus récente  :  2018-09-03 17:40:06\n",
    "\n",
    "data_merged['order_purchase_timestamp'] = data_merged['order_purchase_timestamp'].dt.date  # enlève les heures, minutes, secondes\n",
    "\n",
    "# orders['date'] = pd.to_datetime(orders['date'])   # object >> datetime64\n",
    "\n",
    "print(\"Commande la plus récente  :\", fin_periode)\n",
    "print(\"Commande la plus ancienne :\", debut_periode)"
   ]
  },
  {
   "attachments": {},
   "cell_type": "markdown",
   "metadata": {
    "collapsed": false
   },
   "source": [
    "### Création du dataframe de travail"
   ]
  },
  {
   "attachments": {},
   "cell_type": "markdown",
   "metadata": {
    "collapsed": false
   },
   "source": [
    "#### Suppression des variables non utiles"
   ]
  },
  {
   "attachments": {},
   "cell_type": "markdown",
   "metadata": {
    "collapsed": false
   },
   "source": [
    "##### Discrimination entre customer_id et customer_unique_id"
   ]
  },
  {
   "cell_type": "code",
   "execution_count": null,
   "metadata": {
    "ExecuteTime": {
     "end_time": "2023-05-02T16:56:34.668688Z",
     "start_time": "2023-05-02T16:56:34.608757Z"
    },
    "collapsed": false
   },
   "outputs": [],
   "source": [
    "id_clients = data_merged[\"customer_id\"].value_counts()\n",
    "print(f\"Nombre de doublons : {len(id_clients[id_clients>1])}\")\n",
    "ID_counts = data_merged[\"customer_unique_id\"].value_counts()\n",
    "print(f\"Nombre de doublons : {len(ID_counts[ID_counts>1])}\")\n",
    "print(ID_counts)"
   ]
  },
  {
   "cell_type": "code",
   "execution_count": null,
   "metadata": {
    "ExecuteTime": {
     "end_time": "2023-05-02T16:56:34.721563Z",
     "start_time": "2023-05-02T16:56:34.649564Z"
    },
    "collapsed": false
   },
   "outputs": [],
   "source": [
    "# On prend le 1er ID afin de vérifier son caractère unique\n",
    "display(data_merged[data_merged[\"customer_unique_id\"] == \"8d50f5eadf50201ccdcedfb9e2ac8455\"])"
   ]
  },
  {
   "attachments": {},
   "cell_type": "markdown",
   "metadata": {
    "collapsed": false
   },
   "source": [
    "Le customer_unique_id est un identifiant unique pour le client, à l'inverse du customer_id qui est different à chaque commande. Nous pouvons donc supprimer le customer_id, car nous pourrons retrouver le volume de commande du client grâce au order_id."
   ]
  },
  {
   "cell_type": "code",
   "execution_count": null,
   "metadata": {
    "ExecuteTime": {
     "end_time": "2023-05-02T16:56:34.721821Z",
     "start_time": "2023-05-02T16:56:34.696043Z"
    },
    "collapsed": false
   },
   "outputs": [],
   "source": [
    "data_merged = data_merged.drop('customer_id', 1)\n"
   ]
  },
  {
   "cell_type": "code",
   "execution_count": null,
   "metadata": {
    "ExecuteTime": {
     "end_time": "2023-05-02T16:56:34.805222Z",
     "start_time": "2023-05-02T16:56:34.734627Z"
    },
    "collapsed": false
   },
   "outputs": [],
   "source": [
    "display(data_merged)"
   ]
  },
  {
   "attachments": {},
   "cell_type": "markdown",
   "metadata": {
    "collapsed": false
   },
   "source": [
    "##### Tri des colonnes utiles"
   ]
  },
  {
   "cell_type": "code",
   "execution_count": null,
   "metadata": {
    "ExecuteTime": {
     "end_time": "2023-05-02T16:56:34.812821Z",
     "start_time": "2023-05-02T16:56:34.738237Z"
    },
    "collapsed": false
   },
   "outputs": [],
   "source": [
    "cols_to_keep = ['order_id', 'customer_unique_id', 'order_status', 'customer_zip_code_prefix', 'city', 'customer_state',\n",
    "                 'order_purchase_timestamp', 'order_delivered_customer_date', 'payment_value', 'payment_type', 'payment_installments', 'review_score',\n",
    "                 'nb_articles', 'price', 'freight_value', 'product_category_name', 'product_category_name_english_x', 'order_purchase_hour', 'order_purchase_time_day', 'order_purchase_dayofweek']"
   ]
  },
  {
   "cell_type": "code",
   "execution_count": null,
   "metadata": {
    "ExecuteTime": {
     "end_time": "2023-05-02T16:56:34.813069Z",
     "start_time": "2023-05-02T16:56:34.740515Z"
    },
    "collapsed": false
   },
   "outputs": [],
   "source": [
    "data = data_merged.loc[:, cols_to_keep]"
   ]
  },
  {
   "cell_type": "code",
   "execution_count": null,
   "metadata": {
    "ExecuteTime": {
     "end_time": "2023-05-02T16:56:34.813235Z",
     "start_time": "2023-05-02T16:56:34.750687Z"
    },
    "collapsed": false
   },
   "outputs": [],
   "source": [
    "data.shape"
   ]
  },
  {
   "attachments": {},
   "cell_type": "markdown",
   "metadata": {
    "collapsed": false
   },
   "source": [
    "### Analyse Exploratoire"
   ]
  },
  {
   "cell_type": "code",
   "execution_count": null,
   "metadata": {
    "ExecuteTime": {
     "end_time": "2023-05-02T16:56:36.501348Z",
     "start_time": "2023-05-02T16:56:34.753869Z"
    },
    "collapsed": false
   },
   "outputs": [],
   "source": [
    "outils.valeurs(data)"
   ]
  },
  {
   "cell_type": "code",
   "execution_count": null,
   "metadata": {
    "ExecuteTime": {
     "end_time": "2023-05-02T16:56:36.513091Z",
     "start_time": "2023-05-02T16:56:36.488792Z"
    },
    "collapsed": false
   },
   "outputs": [],
   "source": [
    "data.describe()\n"
   ]
  },
  {
   "attachments": {},
   "cell_type": "markdown",
   "metadata": {
    "collapsed": false
   },
   "source": [
    "#### Représentation des valeurs non numériques\n"
   ]
  },
  {
   "cell_type": "code",
   "execution_count": null,
   "metadata": {
    "ExecuteTime": {
     "end_time": "2023-05-02T16:56:38.599318Z",
     "start_time": "2023-05-02T16:56:36.522340Z"
    },
    "collapsed": false
   },
   "outputs": [],
   "source": [
    "for column in ['order_status', 'payment_type', 'payment_installments', 'review_score', 'product_category_name', 'product_category_name_english_x', 'nb_articles', 'order_purchase_hour', 'order_purchase_time_day', 'order_purchase_dayofweek']:\n",
    "    chaine = 'Fréquence de : ' + column\n",
    "    plt.figure(figsize=(10, 9))\n",
    "    data[column].value_counts(normalize=True, ascending=True).plot(\n",
    "        kind='barh')  # normalize pour avoir les fréquences\n",
    "    plt.title(chaine)\n",
    "    plt.xlabel(\"fréquence de 0 à 1\")\n",
    "    plt.tight_layout()\n",
    "\n",
    "    # scaling automatique selon type de présentation ('notebook', 'paper', 'talk', 'poster')\n",
    "    sns.set_context(\"notebook\")\n",
    "\n",
    "    plt.show()"
   ]
  },
  {
   "attachments": {},
   "cell_type": "markdown",
   "metadata": {
    "collapsed": false
   },
   "source": [
    "Les features ne semblent pas contenir d'aberrants ou d'outliers"
   ]
  },
  {
   "cell_type": "code",
   "execution_count": null,
   "metadata": {},
   "outputs": [],
   "source": [
    "sns.pairplot(data)"
   ]
  },
  {
   "attachments": {},
   "cell_type": "markdown",
   "metadata": {
    "collapsed": false
   },
   "source": [
    "#### Evolution du nombre de commandes"
   ]
  },
  {
   "cell_type": "code",
   "execution_count": null,
   "metadata": {
    "ExecuteTime": {
     "end_time": "2023-05-02T16:56:39.052247Z",
     "start_time": "2023-05-02T16:56:38.624976Z"
    },
    "collapsed": false
   },
   "outputs": [],
   "source": [
    "#évolution du nombre de commandes passées par jour\n",
    "orders_per_days = data.groupby(data[\"order_purchase_timestamp\"] \\\n",
    "                                      .astype('datetime64[ns]').dt.date) \\\n",
    "    .count()[\"order_id\"]\n",
    "fig = plt.figure(figsize=(20, 8))\n",
    "ax = orders_per_days.plot(color=\"#00d994\")\n",
    "ax.set_ylabel(\"count\")\n",
    "plt.title(f\"Evolution du nombre de commandes journalières\\n\")\n",
    "plt.show()"
   ]
  },
  {
   "cell_type": "code",
   "execution_count": null,
   "metadata": {
    "ExecuteTime": {
     "end_time": "2023-05-02T16:56:39.279454Z",
     "start_time": "2023-05-02T16:56:39.052697Z"
    },
    "collapsed": false
   },
   "outputs": [],
   "source": [
    "#Répartition du nombre de commandes par mois, jour de la semaine ou heure de la journée\n",
    "data.groupby(data['order_purchase_timestamp'] \\\n",
    "                .astype('datetime64[ns]').dt.month) \\\n",
    "    .agg({\"order_id\": \"nunique\"}) \\\n",
    "    .plot(figsize=(10,6), kind=\"bar\",\n",
    "          title=\"Répartition des commandes par mois\",\n",
    "          ylabel=\"Nb orders\",\n",
    "          xlabel=\"Month\",\n",
    "          legend=False)\n",
    "plt.xticks(np.arange(0,12), ['Jan','Feb','Mar','Apr','May','Jun',\n",
    "                             'Jul','Aug','Sept','Oct','Nov','Dec'],\n",
    "           rotation='horizontal')\n",
    "plt.show()"
   ]
  },
  {
   "cell_type": "code",
   "execution_count": null,
   "metadata": {
    "ExecuteTime": {
     "end_time": "2023-05-02T16:56:39.441904Z",
     "start_time": "2023-05-02T16:56:39.291811Z"
    },
    "collapsed": false
   },
   "outputs": [],
   "source": [
    "data.groupby(data['order_purchase_timestamp'] \\\n",
    "                .astype('datetime64[ns]').dt.dayofweek) \\\n",
    "    .agg({\"order_id\": \"nunique\"}) \\\n",
    "    .plot(figsize=(10,6), kind=\"bar\",\n",
    "          title=\"Répartition des commandes par jour de la semaine\",\n",
    "          ylabel=\"Nb orders\",\n",
    "          xlabel=\"Day of week\",\n",
    "          legend=False)\n",
    "plt.xticks(np.arange(0,7), ['Mon','Tue','Wed','Thu','Fri','Sat','Sun'], rotation='horizontal')\n",
    "plt.show()"
   ]
  },
  {
   "attachments": {},
   "cell_type": "markdown",
   "metadata": {
    "collapsed": false
   },
   "source": [
    "#### Distribution des valeurs numériques"
   ]
  },
  {
   "cell_type": "code",
   "execution_count": null,
   "metadata": {
    "ExecuteTime": {
     "end_time": "2023-05-02T16:56:39.444821Z",
     "start_time": "2023-05-02T16:56:39.442567Z"
    },
    "collapsed": false
   },
   "outputs": [],
   "source": [
    "cols = ['payment_installments', 'review_score', 'nb_articles', 'price', 'freight_value']"
   ]
  },
  {
   "cell_type": "code",
   "execution_count": null,
   "metadata": {
    "ExecuteTime": {
     "end_time": "2023-05-02T16:56:39.449415Z",
     "start_time": "2023-05-02T16:56:39.447543Z"
    },
    "collapsed": false
   },
   "outputs": [],
   "source": [
    "def distribution(dataset):\n",
    "    warnings.filterwarnings('ignore')\n",
    "\n",
    "    sns.set_context(\"talk\")  # scaling automatique selon type de présentation ('notebook', 'paper', 'talk', 'poster')\n",
    "\n",
    "    sns.set_style(\"whitegrid\")\n",
    "    fig = plt.figure(figsize=(21, 30))\n",
    "\n",
    "    sub = 0\n",
    "    for i in range(len(dataset)):\n",
    "        fig.add_subplot(len(dataset)//3+1, 3, i+1)\n",
    "\n",
    "        left, width = 0, 1\n",
    "        bottom, height = 0, 1\n",
    "        right = left + width\n",
    "        top = bottom + height\n",
    "\n",
    "        colonne = dataset[i]\n",
    "        kstest = stats.kstest(data[colonne].notnull(), 'norm')\n",
    "        ax = sns.distplot(data[colonne], fit=stats.norm, kde=False)\n",
    "        ax.set_title(\"Distribution vs loi normale : {}\".format(colonne))\n",
    "        ax.text(right, top, 'Test Kolmogorov-Smirnov \\n Pvalue: {:.2} \\n Stat: {:.2}'.format(kstest.pvalue,\n",
    "                                                                                             kstest.statistic),\n",
    "                horizontalalignment='right',\n",
    "                verticalalignment='top',\n",
    "                style='italic', transform=ax.transAxes, fontsize=12,\n",
    "                bbox={'facecolor': '#00afe6', 'alpha': 0.5, 'pad': 0})\n",
    "        sub += 1\n",
    "\n",
    "        fig.tight_layout()\n",
    "\n",
    "    plt.show()"
   ]
  },
  {
   "cell_type": "code",
   "execution_count": null,
   "metadata": {
    "ExecuteTime": {
     "end_time": "2023-05-02T16:56:40.701505Z",
     "start_time": "2023-05-02T16:56:39.453617Z"
    },
    "collapsed": false
   },
   "outputs": [],
   "source": [
    "distribution(cols)"
   ]
  },
  {
   "attachments": {},
   "cell_type": "markdown",
   "metadata": {
    "collapsed": false
   },
   "source": [
    "La distribution des colonnes customer_zip_code_prefix', 'payment_installments', 'review_score', 'nb_articles', 'price', 'freight_value est skewness, il faut les corriger. Pour ce faire, nous appliquerons un traitement logarithmique Yeo-Johnson"
   ]
  },
  {
   "attachments": {},
   "cell_type": "markdown",
   "metadata": {
    "collapsed": false
   },
   "source": [
    "#### Split du dataset"
   ]
  },
  {
   "cell_type": "code",
   "execution_count": null,
   "metadata": {
    "ExecuteTime": {
     "end_time": "2023-05-02T16:56:40.809446Z",
     "start_time": "2023-05-02T16:56:40.705337Z"
    },
    "collapsed": false
   },
   "outputs": [],
   "source": [
    "# Shuffle dataframe avec la fonction sample\n",
    "data = data.sample(frac=1)\n",
    "data"
   ]
  },
  {
   "cell_type": "code",
   "execution_count": null,
   "metadata": {
    "ExecuteTime": {
     "end_time": "2023-05-02T16:56:40.809581Z",
     "start_time": "2023-05-02T16:56:40.731753Z"
    },
    "collapsed": false
   },
   "outputs": [],
   "source": [
    "#split des dataset\n",
    "# Selection du ratio\n",
    "ratio = 0.70\n",
    "\n",
    "total_rows = data.shape[0]\n",
    "train_size = int(total_rows*ratio)\n",
    "\n",
    "# Split en dataframe de test et d'entrainement\n",
    "train = data[0:train_size]\n",
    "test = data[train_size:]"
   ]
  },
  {
   "attachments": {},
   "cell_type": "markdown",
   "metadata": {
    "collapsed": false
   },
   "source": [
    "#### Passage au log des variables non RFM"
   ]
  },
  {
   "cell_type": "code",
   "execution_count": null,
   "metadata": {
    "ExecuteTime": {
     "end_time": "2023-05-02T16:56:40.809642Z",
     "start_time": "2023-05-02T16:56:40.734739Z"
    },
    "collapsed": false
   },
   "outputs": [],
   "source": [
    "data_log = train[['payment_installments', 'nb_articles', 'price', 'freight_value']]"
   ]
  },
  {
   "cell_type": "code",
   "execution_count": null,
   "metadata": {
    "ExecuteTime": {
     "end_time": "2023-05-02T16:56:40.809771Z",
     "start_time": "2023-05-02T16:56:40.737250Z"
    },
    "collapsed": false
   },
   "outputs": [],
   "source": [
    "data_log.info()"
   ]
  },
  {
   "cell_type": "code",
   "execution_count": null,
   "metadata": {
    "ExecuteTime": {
     "end_time": "2023-05-02T16:56:40.929655Z",
     "start_time": "2023-05-02T16:56:40.744648Z"
    },
    "collapsed": false
   },
   "outputs": [],
   "source": [
    "# Application de la transformation Yeo-Johnson\n",
    "pt1 = PowerTransformer()\n",
    "df1 = pt1.fit_transform(data_log)\n",
    "pd.DataFrame({'cols':data_log.columns,'Yeo_Johnson_lambdas':pt1.lambdas_})"
   ]
  },
  {
   "cell_type": "code",
   "execution_count": null,
   "metadata": {
    "ExecuteTime": {
     "end_time": "2023-05-02T16:56:42.910223Z",
     "start_time": "2023-05-02T16:56:40.925749Z"
    },
    "collapsed": false
   },
   "outputs": [],
   "source": [
    "#Nous affichons les distributions avant et après la transformation yeo-johnson\n",
    "df2 = pd.DataFrame(data_log,columns=data_log.columns)\n",
    "\n",
    "for col in data_log.columns:\n",
    "    plt.figure(figsize=(14,4))\n",
    "    plt.subplot(121)\n",
    "    sns.distplot(data_log[col])\n",
    "    plt.title(col)\n",
    "\n",
    "    plt.subplot(122)\n",
    "    sns.distplot(df2[col])\n",
    "    plt.title(col)\n",
    "\n",
    "    plt.show()"
   ]
  },
  {
   "attachments": {},
   "cell_type": "markdown",
   "metadata": {
    "collapsed": false
   },
   "source": [
    "### Analyse Bivariée"
   ]
  },
  {
   "attachments": {},
   "cell_type": "markdown",
   "metadata": {
    "collapsed": false
   },
   "source": [
    "#### Table de corrélation"
   ]
  },
  {
   "cell_type": "code",
   "execution_count": null,
   "metadata": {
    "ExecuteTime": {
     "end_time": "2023-05-02T16:56:42.924523Z",
     "start_time": "2023-05-02T16:56:42.910773Z"
    },
    "collapsed": false
   },
   "outputs": [],
   "source": [
    "train.corr()"
   ]
  },
  {
   "cell_type": "code",
   "execution_count": null,
   "metadata": {
    "ExecuteTime": {
     "end_time": "2023-05-02T16:56:43.138850Z",
     "start_time": "2023-05-02T16:56:42.926731Z"
    },
    "collapsed": false
   },
   "outputs": [],
   "source": [
    "# On donne un aspect graphique à nos valeurs de corrélation\n",
    "fig = plt.figure(figsize=(15,8))\n",
    "fig.suptitle('Visuel table de correlation entre les variables', fontsize=30)\n",
    "\n",
    "train.corr()\n",
    "sns.set(font_scale=1)\n",
    "ax = sns.heatmap(train.corr(), linewidths=.5)\n",
    "plt.show()"
   ]
  },
  {
   "attachments": {},
   "cell_type": "markdown",
   "metadata": {
    "collapsed": false
   },
   "source": [
    "## Analyse multivariée"
   ]
  },
  {
   "attachments": {},
   "cell_type": "markdown",
   "metadata": {
    "collapsed": false
   },
   "source": [
    "### PCA"
   ]
  },
  {
   "attachments": {},
   "cell_type": "markdown",
   "metadata": {
    "collapsed": false
   },
   "source": [
    "#### Préparation du jeu de données"
   ]
  },
  {
   "cell_type": "code",
   "execution_count": null,
   "metadata": {
    "ExecuteTime": {
     "end_time": "2023-05-02T16:56:43.142222Z",
     "start_time": "2023-05-02T16:56:43.140511Z"
    },
    "collapsed": false
   },
   "outputs": [],
   "source": [
    "data_pca = train[['payment_value', 'payment_installments', 'review_score', 'nb_articles', 'price', 'freight_value']]"
   ]
  },
  {
   "cell_type": "code",
   "execution_count": null,
   "metadata": {
    "ExecuteTime": {
     "end_time": "2023-05-02T16:56:43.145538Z",
     "start_time": "2023-05-02T16:56:43.143443Z"
    },
    "collapsed": false
   },
   "outputs": [],
   "source": [
    "data_pca_label = train[['product_category_name']]"
   ]
  },
  {
   "cell_type": "code",
   "execution_count": null,
   "metadata": {
    "ExecuteTime": {
     "end_time": "2023-05-02T16:56:43.147186Z",
     "start_time": "2023-05-02T16:56:43.146005Z"
    },
    "collapsed": false
   },
   "outputs": [],
   "source": [
    "n_components = 6"
   ]
  },
  {
   "cell_type": "code",
   "execution_count": null,
   "metadata": {
    "ExecuteTime": {
     "end_time": "2023-05-02T16:56:43.569422Z",
     "start_time": "2023-05-02T16:56:43.147894Z"
    },
    "collapsed": false
   },
   "outputs": [],
   "source": [
    "# Création de la variable contenant les colonnes\n",
    "features = data_pca.columns\n",
    "# Création de X la matrice de données\n",
    "X = data_pca\n",
    "keep_ind = X.index\n",
    "X = np.nan_to_num(X)\n",
    "# Scaling des données\n",
    "scaler = StandardScaler()\n",
    "# Fit et transformation des données\n",
    "scaler.fit(X)\n",
    "X_scaled = scaler.transform(X)\n",
    "# Instanciation du PCA\n",
    "pca = PCA(n_components=n_components)\n",
    "# Entrainement du PCA sur les données scalées\n",
    "pca.fit(X_scaled)\n",
    "# Enregistrement des variances\n",
    "scree = (pca.explained_variance_ratio_*100).round(2)\n",
    "# Cumul des variances\n",
    "scree_cum = scree.cumsum().round()\n",
    "# Variable des composants\n",
    "X_list = range(1, n_components+1)\n",
    "\n",
    "print(\"PCA ratio variance\", pca.explained_variance_ratio_)\n",
    "\n",
    "display(scree_cum)\n",
    "\n",
    "# Visualisation des éboulis et pourcentage d'inertie\n",
    "plt.bar(X_list, scree)\n",
    "plt.plot(X_list, scree_cum,c=\"red\",marker='o')\n",
    "plt.xlabel(\"rang de l\\'axe d\\'inertie\")\n",
    "plt.ylabel(\"pourcentage d\\'inertie\")\n",
    "plt.title(\"Éboulis des valeurs propres\")\n",
    "plt.show(block=False)\n",
    "\n",
    "# Array de Calcul des composantes\n",
    "pcs = pca.components_\n",
    "# DF de calcul des composantes\n",
    "pcs = pd.DataFrame(pcs)\n",
    "# Calcul des composantes : arrondis\n",
    "pcs.columns = features\n",
    "pcs.index = [f\"F{i}\" for i in X_list]\n",
    "pcs.round(2)\n",
    "\n",
    "print(\"Calcul des composants\", pcs.T)\n",
    "\n",
    "# Representation visuelle des composantes\n",
    "plt.subplots(figsize=(20,6))\n",
    "sns.heatmap(pcs.T, vmin=1, vmax=1, annot=True, cmap=\"coolwarm\", fmt=\"0.2f\")\n",
    "\n",
    "plt.show()"
   ]
  },
  {
   "cell_type": "code",
   "execution_count": null,
   "metadata": {
    "ExecuteTime": {
     "end_time": "2023-05-02T16:56:43.727789Z",
     "start_time": "2023-05-02T16:56:43.569553Z"
    },
    "collapsed": false
   },
   "outputs": [],
   "source": [
    "outils_analyses.correlation_graph(pca, (0,1), features)"
   ]
  },
  {
   "cell_type": "code",
   "execution_count": null,
   "metadata": {
    "ExecuteTime": {
     "end_time": "2023-05-02T16:56:43.880858Z",
     "start_time": "2023-05-02T16:56:43.736748Z"
    },
    "collapsed": false
   },
   "outputs": [],
   "source": [
    "outils_analyses.correlation_graph(pca, (2,3), features)"
   ]
  },
  {
   "cell_type": "code",
   "execution_count": null,
   "metadata": {
    "ExecuteTime": {
     "end_time": "2023-05-02T16:56:43.884923Z",
     "start_time": "2023-05-02T16:56:43.881491Z"
    },
    "collapsed": false
   },
   "outputs": [],
   "source": [
    "X_proj = pca.transform(X_scaled)\n"
   ]
  },
  {
   "cell_type": "code",
   "execution_count": null,
   "metadata": {
    "ExecuteTime": {
     "end_time": "2023-05-02T16:56:46.029694Z",
     "start_time": "2023-05-02T16:56:43.889120Z"
    },
    "collapsed": false
   },
   "outputs": [],
   "source": [
    "x_y = [0,1]\n",
    "outils_analyses.display_factorial_planes(X_proj, x_y, clusters=train[\"product_category_name\"])"
   ]
  },
  {
   "cell_type": "code",
   "execution_count": null,
   "metadata": {
    "ExecuteTime": {
     "end_time": "2023-05-02T16:56:48.172777Z",
     "start_time": "2023-05-02T16:56:46.037966Z"
    },
    "collapsed": false
   },
   "outputs": [],
   "source": [
    "x_y = [2,3]\n",
    "outils_analyses.display_factorial_planes(X_proj, x_y, clusters=train[\"product_category_name\"])"
   ]
  },
  {
   "attachments": {},
   "cell_type": "markdown",
   "metadata": {
    "collapsed": false
   },
   "source": [
    "## RFM"
   ]
  },
  {
   "attachments": {},
   "cell_type": "markdown",
   "metadata": {
    "collapsed": false
   },
   "source": [
    "Le dataframe doit être de nouveau préparé pour la segmentation RFM : orientation client"
   ]
  },
  {
   "attachments": {},
   "cell_type": "markdown",
   "metadata": {
    "collapsed": false
   },
   "source": [
    "Nous étudierons le RFM à partir de 3 categories\n",
    "- Acheteurs de moins de 90 jours\n",
    "- Acheteurs ayant effectué un achat entre 365 et 90 jours\n",
    "- Acheteurs ayant effectué un achat au cours des 365 jours"
   ]
  },
  {
   "attachments": {},
   "cell_type": "markdown",
   "metadata": {
    "collapsed": false
   },
   "source": [
    "### RFM à 90 jours"
   ]
  },
  {
   "attachments": {},
   "cell_type": "markdown",
   "metadata": {
    "collapsed": false
   },
   "source": [
    "Préparation de la feature de date pour 90 jours"
   ]
  },
  {
   "cell_type": "code",
   "execution_count": null,
   "metadata": {
    "ExecuteTime": {
     "end_time": "2023-05-02T16:56:48.184563Z",
     "start_time": "2023-05-02T16:56:48.178992Z"
    },
    "collapsed": false
   },
   "outputs": [],
   "source": [
    "# Conversion de la feature au format datetime\n",
    "train['order_purchase_timestamp'] = pd.to_datetime(\n",
    "    train['order_purchase_timestamp'])"
   ]
  },
  {
   "cell_type": "code",
   "execution_count": null,
   "metadata": {
    "ExecuteTime": {
     "end_time": "2023-05-02T16:56:48.230155Z",
     "start_time": "2023-05-02T16:56:48.185889Z"
    },
    "collapsed": false
   },
   "outputs": [],
   "source": [
    "debut_periode = train['order_purchase_timestamp'].min()  # commande la plus ancienne :  2016-09-15 12:16:38\n",
    "fin_periode = train['order_purchase_timestamp'].max()  # commande la plus récente  :  2018-09-03 17:40:06\n",
    "\n",
    "train['order_purchase_timestamp'] = train['order_purchase_timestamp'].dt.date  # enlève les heures, minutes, secondes\n",
    "\n",
    "# orders['date'] = pd.to_datetime(orders['date'])   # object >> datetime64\n",
    "\n",
    "print(\"Commande la plus récente  :\", fin_periode)\n",
    "print(\"Commande la plus ancienne :\", debut_periode)"
   ]
  },
  {
   "cell_type": "code",
   "execution_count": null,
   "metadata": {
    "ExecuteTime": {
     "end_time": "2023-05-02T16:56:48.230945Z",
     "start_time": "2023-05-02T16:56:48.201038Z"
    },
    "collapsed": false
   },
   "outputs": [],
   "source": [
    "# On fixe la date du 29/08/2018 comme date la plus récente\n",
    "# calcul du nombre de jours depuis le 29/08/2018\n",
    "latest_date = dt.date(2018, 8, 29)\n",
    "\n",
    "# Selection des variables permettant le calcul RFM\n",
    "data_rfm = train[[\"customer_unique_id\", \"order_purchase_timestamp\", \"payment_value\"]]\n",
    "\n",
    "now = latest_date\n",
    "date90j = now - timedelta(days=90)\n",
    "client90j = data_rfm.loc[data_rfm['order_purchase_timestamp'] < date90j, :]\n"
   ]
  },
  {
   "cell_type": "code",
   "execution_count": null,
   "metadata": {
    "ExecuteTime": {
     "end_time": "2023-05-02T16:56:56.947030Z",
     "start_time": "2023-05-02T16:56:48.220097Z"
    },
    "collapsed": false
   },
   "outputs": [],
   "source": [
    "# Calcul du RFM à 90 jours\n",
    "rfm90j = outils.calculate_rfm(data_rfm, 90, now)"
   ]
  },
  {
   "cell_type": "code",
   "execution_count": null,
   "metadata": {
    "ExecuteTime": {
     "end_time": "2023-05-02T16:56:56.956675Z",
     "start_time": "2023-05-02T16:56:56.947948Z"
    },
    "collapsed": false
   },
   "outputs": [],
   "source": [
    "rfm90j.describe()"
   ]
  },
  {
   "cell_type": "code",
   "execution_count": null,
   "metadata": {
    "ExecuteTime": {
     "end_time": "2023-05-02T16:56:57.427562Z",
     "start_time": "2023-05-02T16:56:56.965501Z"
    },
    "collapsed": false
   },
   "outputs": [],
   "source": [
    "outils.viz_rfm(rfm90j.drop(columns='customer_unique_id'))"
   ]
  },
  {
   "attachments": {},
   "cell_type": "markdown",
   "metadata": {
    "collapsed": false
   },
   "source": [
    "### RFM de 365 à 90 jours"
   ]
  },
  {
   "cell_type": "code",
   "execution_count": null,
   "metadata": {
    "ExecuteTime": {
     "end_time": "2023-05-02T16:56:57.432688Z",
     "start_time": "2023-05-02T16:56:57.430313Z"
    },
    "collapsed": false
   },
   "outputs": [],
   "source": [
    "now = date90j\n",
    "date275j = now - timedelta(days=275)\n",
    "client275j = data_rfm.loc[data_rfm['order_purchase_timestamp'] < date275j, :]"
   ]
  },
  {
   "cell_type": "code",
   "execution_count": null,
   "metadata": {
    "ExecuteTime": {
     "end_time": "2023-05-02T16:58:49.254667Z",
     "start_time": "2023-05-02T16:56:57.435599Z"
    },
    "collapsed": false
   },
   "outputs": [],
   "source": [
    "# Calcul du RFM de 365 jours à 90 jours\n",
    "rfm275j = outils.calculate_rfm(data_rfm, 275, now)"
   ]
  },
  {
   "cell_type": "code",
   "execution_count": null,
   "metadata": {
    "ExecuteTime": {
     "end_time": "2023-05-02T16:58:49.265697Z",
     "start_time": "2023-05-02T16:58:49.255608Z"
    },
    "collapsed": false
   },
   "outputs": [],
   "source": [
    "rfm275j.describe()"
   ]
  },
  {
   "cell_type": "code",
   "execution_count": null,
   "metadata": {
    "ExecuteTime": {
     "end_time": "2023-05-02T16:58:49.844931Z",
     "start_time": "2023-05-02T16:58:49.266018Z"
    },
    "collapsed": false
   },
   "outputs": [],
   "source": [
    "outils.viz_rfm(rfm275j.drop(columns='customer_unique_id'))"
   ]
  },
  {
   "attachments": {},
   "cell_type": "markdown",
   "metadata": {
    "collapsed": false
   },
   "source": [
    "### RFM depuis plus de 365 j"
   ]
  },
  {
   "cell_type": "code",
   "execution_count": null,
   "metadata": {
    "ExecuteTime": {
     "end_time": "2023-05-02T16:58:49.850974Z",
     "start_time": "2023-05-02T16:58:49.847303Z"
    },
    "collapsed": false
   },
   "outputs": [],
   "source": [
    "now = date90j\n",
    "date365j = now - timedelta(days=275)\n",
    "client365j = data_rfm.loc[data_rfm['order_purchase_timestamp'] > date365j, :]"
   ]
  },
  {
   "cell_type": "code",
   "execution_count": null,
   "metadata": {
    "ExecuteTime": {
     "end_time": "2023-05-02T17:01:15.735670Z",
     "start_time": "2023-05-02T16:58:49.853787Z"
    },
    "collapsed": false
   },
   "outputs": [],
   "source": [
    "# Calcul du RFM à 365 jours\n",
    "rfm365j = outils.calculate_rfm(data_rfm, 365, now)"
   ]
  },
  {
   "cell_type": "code",
   "execution_count": null,
   "metadata": {
    "ExecuteTime": {
     "end_time": "2023-05-02T17:01:15.746613Z",
     "start_time": "2023-05-02T17:01:15.736416Z"
    },
    "collapsed": false
   },
   "outputs": [],
   "source": [
    "rfm365j.describe()"
   ]
  },
  {
   "cell_type": "code",
   "execution_count": null,
   "metadata": {
    "ExecuteTime": {
     "end_time": "2023-05-02T17:01:16.233527Z",
     "start_time": "2023-05-02T17:01:15.752293Z"
    },
    "collapsed": false
   },
   "outputs": [],
   "source": [
    "outils.viz_rfm(rfm365j.drop(columns='customer_unique_id'))"
   ]
  },
  {
   "attachments": {},
   "cell_type": "markdown",
   "metadata": {
    "collapsed": false
   },
   "source": [
    "Nous utiliserons le RFM à 365 jours pour la suite de notre étude.\n",
    "Nous pouvons observer que les features Frequency et Monetary sont skewness, nous les passerons donc au log."
   ]
  },
  {
   "attachments": {},
   "cell_type": "markdown",
   "metadata": {
    "collapsed": false
   },
   "source": [
    "### Traitement de la feature 'Frequency'"
   ]
  },
  {
   "cell_type": "code",
   "execution_count": null,
   "metadata": {
    "ExecuteTime": {
     "end_time": "2023-05-02T17:01:16.495379Z",
     "start_time": "2023-05-02T17:01:16.237308Z"
    },
    "collapsed": false
   },
   "outputs": [],
   "source": [
    "plt.figure(figsize=(10, 5))\n",
    "sns.distplot(rfm365j.Frequency)"
   ]
  },
  {
   "cell_type": "code",
   "execution_count": null,
   "metadata": {
    "ExecuteTime": {
     "end_time": "2023-05-02T17:01:16.500875Z",
     "start_time": "2023-05-02T17:01:16.497698Z"
    },
    "collapsed": false
   },
   "outputs": [],
   "source": [
    "rfm365j.Frequency.value_counts(normalize=True)"
   ]
  },
  {
   "cell_type": "code",
   "execution_count": null,
   "metadata": {
    "ExecuteTime": {
     "end_time": "2023-05-02T17:01:16.505742Z",
     "start_time": "2023-05-02T17:01:16.501951Z"
    },
    "collapsed": false
   },
   "outputs": [],
   "source": [
    "# Test de transformation de la variable Frequency en log1p, log2+1 et log10 +1\n",
    "test_src_1p = np.log1p(rfm365j['Frequency'])\n",
    "test_src_2p = np.log2(1 + rfm365j['Frequency'])\n",
    "test_src_10p = np.log10(1 + rfm365j['Frequency'])"
   ]
  },
  {
   "cell_type": "code",
   "execution_count": null,
   "metadata": {
    "ExecuteTime": {
     "end_time": "2023-05-02T17:01:16.516231Z",
     "start_time": "2023-05-02T17:01:16.506594Z"
    },
    "collapsed": false
   },
   "outputs": [],
   "source": [
    "# Constitution du dataframe de travail\n",
    "df_src_test = pd.DataFrame(\n",
    "    {'test1p': test_src_1p, 'test2p': test_src_2p, 'test10p': test_src_10p})\n",
    "df_src_test"
   ]
  },
  {
   "cell_type": "code",
   "execution_count": null,
   "metadata": {
    "ExecuteTime": {
     "end_time": "2023-05-02T17:01:17.063795Z",
     "start_time": "2023-05-02T17:01:16.522765Z"
    },
    "collapsed": false
   },
   "outputs": [],
   "source": [
    "# Visualisation des 3 essais de transformation logarithmique\n",
    "plt.figure(figsize=(15, 8))\n",
    "plt.title('Distribution de la variable cible ')\n",
    "sns.distplot(test_src_1p)\n",
    "sns.distplot(test_src_2p)\n",
    "sns.distplot(test_src_10p)\n",
    "ax = plt.gca()\n",
    "ax.legend(['log1p', 'log2p', 'log10p'])\n",
    "plt.show()"
   ]
  },
  {
   "cell_type": "code",
   "execution_count": null,
   "metadata": {
    "ExecuteTime": {
     "end_time": "2023-05-02T17:01:17.118005Z",
     "start_time": "2023-05-02T17:01:17.064522Z"
    },
    "collapsed": false
   },
   "outputs": [],
   "source": [
    "outils.stat_descriptives(df_src_test, ['test1p', 'test2p', 'test10p'])"
   ]
  },
  {
   "cell_type": "code",
   "execution_count": null,
   "metadata": {
    "ExecuteTime": {
     "end_time": "2023-05-02T17:01:17.118627Z",
     "start_time": "2023-05-02T17:01:17.111125Z"
    },
    "collapsed": false
   },
   "outputs": [],
   "source": [
    "# Ajout d'une nouvelle variable 'Frequency_sfLog'\n",
    "rfm365j['Frequency_sf_Log'] = np.log2(rfm365j['Frequency'])"
   ]
  },
  {
   "attachments": {},
   "cell_type": "markdown",
   "metadata": {
    "collapsed": false
   },
   "source": [
    "### Traitement de la feature 'Monetary'"
   ]
  },
  {
   "cell_type": "code",
   "execution_count": null,
   "metadata": {},
   "outputs": [],
   "source": [
    "plt.figure(figsize=(10, 5))\n",
    "sns.distplot(rfm365j.Monetary)"
   ]
  },
  {
   "cell_type": "code",
   "execution_count": null,
   "metadata": {
    "ExecuteTime": {
     "end_time": "2023-05-02T17:01:17.118688Z",
     "start_time": "2023-05-02T17:01:17.114858Z"
    },
    "collapsed": false
   },
   "outputs": [],
   "source": [
    "# Test de transformation de la variable Frequency en log1p, log2+1 et log10 +1\n",
    "test_src_1p = np.log1p(rfm365j['Monetary'])\n",
    "test_src_2p = np.log2(1 + rfm365j['Monetary'])\n",
    "test_src_10p = np.log10(1 + rfm365j['Monetary'])"
   ]
  },
  {
   "cell_type": "code",
   "execution_count": null,
   "metadata": {
    "ExecuteTime": {
     "end_time": "2023-05-02T17:01:17.126862Z",
     "start_time": "2023-05-02T17:01:17.119020Z"
    },
    "collapsed": false
   },
   "outputs": [],
   "source": [
    "# Constitution du dataframe de travail\n",
    "df_src_test = pd.DataFrame(\n",
    "    {'test1p': test_src_1p, 'test2p': test_src_2p, 'test10p': test_src_10p})\n",
    "df_src_test"
   ]
  },
  {
   "cell_type": "code",
   "execution_count": null,
   "metadata": {
    "ExecuteTime": {
     "end_time": "2023-05-02T17:01:17.766641Z",
     "start_time": "2023-05-02T17:01:17.127319Z"
    },
    "collapsed": false
   },
   "outputs": [],
   "source": [
    "# Visualisation des 3 essais de transformation logarithmique\n",
    "plt.figure(figsize=(15, 8))\n",
    "plt.title('Distribution de la variable cible ')\n",
    "sns.distplot(test_src_1p)\n",
    "sns.distplot(test_src_2p)\n",
    "sns.distplot(test_src_10p)\n",
    "ax = plt.gca()\n",
    "ax.legend(['log1p', 'log2p', 'log10p'])\n",
    "plt.show()"
   ]
  },
  {
   "cell_type": "code",
   "execution_count": null,
   "metadata": {
    "ExecuteTime": {
     "end_time": "2023-05-02T17:01:17.781917Z",
     "start_time": "2023-05-02T17:01:17.767163Z"
    },
    "collapsed": false
   },
   "outputs": [],
   "source": [
    "outils.stat_descriptives(df_src_test, ['test1p', 'test2p', 'test10p'])"
   ]
  },
  {
   "cell_type": "code",
   "execution_count": null,
   "metadata": {
    "ExecuteTime": {
     "end_time": "2023-05-02T17:01:17.784770Z",
     "start_time": "2023-05-02T17:01:17.782556Z"
    },
    "collapsed": false
   },
   "outputs": [],
   "source": [
    "# Ajout d'une nouvelle variable 'SourceEUI_kBtu_sf'\n",
    "rfm365j['Monetary_sf_Log'] = np.log1p(rfm365j['Monetary'])"
   ]
  },
  {
   "attachments": {},
   "cell_type": "markdown",
   "metadata": {
    "collapsed": false
   },
   "source": [
    "### Affichage des distributions"
   ]
  },
  {
   "cell_type": "code",
   "execution_count": null,
   "metadata": {
    "ExecuteTime": {
     "end_time": "2023-05-02T17:01:17.819041Z",
     "start_time": "2023-05-02T17:01:17.785662Z"
    },
    "collapsed": false
   },
   "outputs": [],
   "source": [
    "# Melt afin de passer les colonnes en lignes\n",
    "melt_rfm365j = pd.melt(rfm365j)"
   ]
  },
  {
   "cell_type": "code",
   "execution_count": null,
   "metadata": {
    "ExecuteTime": {
     "end_time": "2023-05-02T17:01:17.820147Z",
     "start_time": "2023-05-02T17:01:17.802992Z"
    },
    "collapsed": false
   },
   "outputs": [],
   "source": [
    "rfm365j.head()"
   ]
  },
  {
   "cell_type": "code",
   "execution_count": null,
   "metadata": {
    "ExecuteTime": {
     "end_time": "2023-05-02T17:01:17.820267Z",
     "start_time": "2023-05-02T17:01:17.807184Z"
    },
    "collapsed": false
   },
   "outputs": [],
   "source": [
    "# Création de la table\n",
    "data_log = rfm365j.drop(columns=['Frequency','Monetary'])"
   ]
  },
  {
   "cell_type": "code",
   "execution_count": null,
   "metadata": {
    "ExecuteTime": {
     "end_time": "2023-05-02T17:01:17.892367Z",
     "start_time": "2023-05-02T17:01:17.822253Z"
    },
    "collapsed": false
   },
   "outputs": [],
   "source": [
    "#Création des df d'affichage des graphiques de distribution\n",
    "df_recency=melt_rfm365j[melt_rfm365j['variable'] == 'Recency']\n",
    "df_frequency=melt_rfm365j[melt_rfm365j['variable'] == 'Frequency_sf_Log']\n",
    "df_monetary=melt_rfm365j[melt_rfm365j['variable'] == 'Monetary_sf_Log']"
   ]
  },
  {
   "cell_type": "code",
   "execution_count": null,
   "metadata": {
    "ExecuteTime": {
     "end_time": "2023-05-02T17:01:18.400418Z",
     "start_time": "2023-05-02T17:01:17.871454Z"
    },
    "collapsed": false
   },
   "outputs": [],
   "source": [
    "# Indicateur Récence\n",
    "plt.figure(figsize=(15, 8))\n",
    "\n",
    "#Distribution\n",
    "plt.subplot(2, 1, 1)\n",
    "sns.histplot(df_recency['value'], kde=True, color='SteelBlue')\n",
    "plt.title(\"Indicateur Recency\")\n",
    "\n",
    "#Boite à moustache\n",
    "plt.subplot(2, 1, 2)\n",
    "sns.boxplot(x=df_recency['value'], y=df_recency['variable'], orient=\"h\", width=0.5, color='SteelBlue')\n",
    "plt.title(\"Indicateur Recency\")\n",
    "plt.ylabel(\"variable Recency\")\n",
    "\n",
    "plt.tight_layout()"
   ]
  },
  {
   "cell_type": "code",
   "execution_count": null,
   "metadata": {
    "ExecuteTime": {
     "end_time": "2023-05-02T17:01:18.983422Z",
     "start_time": "2023-05-02T17:01:18.400700Z"
    },
    "collapsed": false
   },
   "outputs": [],
   "source": [
    "# Indicateur Fréquence\n",
    "plt.figure(figsize = (15,8))\n",
    "\n",
    "#Distribution\n",
    "plt.subplot(2,1,1)\n",
    "sns.histplot(df_frequency['value'], kde = True, color='SteelBlue')\n",
    "plt.title(\"Indicateur Frequency\")\n",
    "\n",
    "#Boite à moustache\n",
    "plt.subplot(2,1,2)\n",
    "sns.boxplot( x=df_frequency['value'], y=df_frequency['variable'], orient =\"h\" , width=0.5, color='SteelBlue')\n",
    "plt.title(\"Indicateur des Frequency\")\n",
    "plt.ylabel(\"variable Frequency\")\n",
    "\n",
    "plt.tight_layout()"
   ]
  },
  {
   "cell_type": "code",
   "execution_count": null,
   "metadata": {
    "ExecuteTime": {
     "end_time": "2023-05-02T17:01:19.607489Z",
     "start_time": "2023-05-02T17:01:18.985048Z"
    },
    "collapsed": false
   },
   "outputs": [],
   "source": [
    "# Indicateur Monétaire\n",
    "plt.figure(figsize = (15,8))\n",
    "\n",
    "#Distribution\n",
    "plt.subplot(2,1,1)\n",
    "sns.histplot(df_monetary['value'], kde = True, color='SteelBlue')\n",
    "plt.title(\"Indicateur Monetary\")\n",
    "\n",
    "#Boite à moustache\n",
    "plt.subplot(2,1,2)\n",
    "sns.boxplot( x=df_monetary['value'], y=df_monetary['variable'], orient =\"h\" , width=0.5, color='SteelBlue')\n",
    "plt.title(\"Indicateur Monetary\")\n",
    "plt.ylabel(\"variable Monetary\")\n",
    "\n",
    "plt.tight_layout()"
   ]
  },
  {
   "cell_type": "code",
   "execution_count": null,
   "metadata": {
    "ExecuteTime": {
     "end_time": "2023-05-02T17:01:19.611254Z",
     "start_time": "2023-05-02T17:01:19.607713Z"
    },
    "collapsed": false
   },
   "outputs": [],
   "source": [
    "print(\"Le montant médian des commandes est de  {} Réals.\"\n",
    "      .format(rfm365j[\"Monetary\"].median()))\n",
    "print(\"Le montant minimal est de {} Reals.\"\n",
    "      .format(rfm365j[\"Monetary\"].min()))\n",
    "print(\"Le montant maximal est de {} Reals. \\n\"\n",
    "      .format(rfm365j[\"Monetary\"].max()))"
   ]
  },
  {
   "attachments": {},
   "cell_type": "markdown",
   "metadata": {
    "collapsed": false
   },
   "source": [
    "Les distributions des indicateurs Frequency et Monetary sont bien celle de données passées au log."
   ]
  },
  {
   "attachments": {},
   "cell_type": "markdown",
   "metadata": {
    "collapsed": false
   },
   "source": [
    "## Sauvegarde des fichiers"
   ]
  },
  {
   "cell_type": "code",
   "execution_count": null,
   "metadata": {
    "ExecuteTime": {
     "end_time": "2023-05-02T17:01:19.681582Z",
     "start_time": "2023-05-02T17:01:19.611903Z"
    },
    "collapsed": false
   },
   "outputs": [],
   "source": [
    "data_clean = pd.merge(rfm365j, train,\n",
    "                      how='left',\n",
    "                      on='customer_unique_id')"
   ]
  },
  {
   "cell_type": "code",
   "execution_count": null,
   "metadata": {
    "ExecuteTime": {
     "end_time": "2023-05-02T17:01:19.692284Z",
     "start_time": "2023-05-02T17:01:19.667094Z"
    },
    "collapsed": false
   },
   "outputs": [],
   "source": [
    "display(data_clean)"
   ]
  },
  {
   "cell_type": "code",
   "execution_count": null,
   "metadata": {
    "ExecuteTime": {
     "end_time": "2023-05-02T17:01:19.692968Z",
     "start_time": "2023-05-02T17:01:19.671268Z"
    },
    "collapsed": false
   },
   "outputs": [],
   "source": [
    "data_clean = data_clean[['customer_unique_id', 'Recency', 'Frequency_sf_Log', 'Monetary_sf_Log', 'customer_zip_code_prefix', 'city', 'customer_state',\n",
    "                         'order_purchase_timestamp', 'payment_value', 'payment_type', 'payment_installments', 'review_score', 'price',\n",
    "                         'product_category_name','order_purchase_hour', 'order_purchase_time_day', 'order_purchase_dayofweek', 'nb_articles']]"
   ]
  },
  {
   "cell_type": "code",
   "execution_count": null,
   "metadata": {
    "ExecuteTime": {
     "end_time": "2023-05-02T17:01:20.073602Z",
     "start_time": "2023-05-02T17:01:19.687662Z"
    },
    "collapsed": false
   },
   "outputs": [],
   "source": [
    "data_clean.to_csv('/Users/xparisot/Formation OpenClassRoom/Projets/Projet 5/fr_data_train.csv', index=False)"
   ]
  }
 ],
 "metadata": {
  "kernelspec": {
   "display_name": "Python 3",
   "language": "python",
   "name": "python3"
  },
  "language_info": {
   "codemirror_mode": {
    "name": "ipython",
    "version": 3
   },
   "file_extension": ".py",
   "mimetype": "text/x-python",
   "name": "python",
   "nbconvert_exporter": "python",
   "pygments_lexer": "ipython3",
   "version": "3.10.11"
  }
 },
 "nbformat": 4,
 "nbformat_minor": 0
}
